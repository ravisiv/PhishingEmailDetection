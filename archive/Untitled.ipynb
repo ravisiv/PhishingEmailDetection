{
 "cells": [
  {
   "cell_type": "code",
   "execution_count": 1,
   "id": "27bf09c4",
   "metadata": {},
   "outputs": [
    {
     "name": "stdout",
     "output_type": "stream",
     "text": [
      "Num GPUs Available:  1\n"
     ]
    }
   ],
   "source": [
    "import tensorflow as tf\n",
    "print(\"Num GPUs Available: \", len(tf.config.experimental.list_physical_devices('GPU')))"
   ]
  },
  {
   "cell_type": "code",
   "execution_count": 2,
   "id": "ed11b4ff",
   "metadata": {},
   "outputs": [
    {
     "name": "stdout",
     "output_type": "stream",
     "text": [
      "TensorFlow version: 2.8.0\n",
      "Num GPUs Available:  1\n",
      "\u001b[1mDownloading and preparing dataset 11.06 MiB (download: 11.06 MiB, generated: 21.00 MiB, total: 32.06 MiB) to /Users/ravis/tensorflow_datasets/mnist/3.0.1...\u001b[0m\n"
     ]
    },
    {
     "data": {
      "application/vnd.jupyter.widget-view+json": {
       "model_id": "a1a3dfa16dd44b538d9f73e39033d4c9",
       "version_major": 2,
       "version_minor": 0
      },
      "text/plain": [
       "Dl Completed...:   0%|          | 0/4 [00:00<?, ? file/s]"
      ]
     },
     "metadata": {},
     "output_type": "display_data"
    },
    {
     "name": "stdout",
     "output_type": "stream",
     "text": [
      "\u001b[1mDataset mnist downloaded and prepared to /Users/ravis/tensorflow_datasets/mnist/3.0.1. Subsequent calls will reuse this data.\u001b[0m\n",
      "Metal device set to: Apple M1 Pro\n",
      "WARNING:tensorflow:AutoGraph could not transform <function normalize_img at 0x29036aee0> and will run it as-is.\n",
      "Cause: Unable to locate the source code of <function normalize_img at 0x29036aee0>. Note that functions defined in certain environments, like the interactive Python shell, do not expose their source code. If that is the case, you should define them in a .py source file. If you are certain the code is graph-compatible, wrap the call using @tf.autograph.experimental.do_not_convert. Original error: could not get source code\n",
      "To silence this warning, decorate the function with @tf.autograph.experimental.do_not_convert\n"
     ]
    },
    {
     "name": "stderr",
     "output_type": "stream",
     "text": [
      "2022-03-25 08:04:16.802151: I tensorflow/core/common_runtime/pluggable_device/pluggable_device_factory.cc:305] Could not identify NUMA node of platform GPU ID 0, defaulting to 0. Your kernel may not have been built with NUMA support.\n",
      "2022-03-25 08:04:16.802460: I tensorflow/core/common_runtime/pluggable_device/pluggable_device_factory.cc:271] Created TensorFlow device (/job:localhost/replica:0/task:0/device:GPU:0 with 0 MB memory) -> physical PluggableDevice (device: 0, name: METAL, pci bus id: <undefined>)\n",
      "WARNING:tensorflow:AutoGraph could not transform <function normalize_img at 0x29036aee0> and will run it as-is.\n",
      "Cause: Unable to locate the source code of <function normalize_img at 0x29036aee0>. Note that functions defined in certain environments, like the interactive Python shell, do not expose their source code. If that is the case, you should define them in a .py source file. If you are certain the code is graph-compatible, wrap the call using @tf.autograph.experimental.do_not_convert. Original error: could not get source code\n",
      "To silence this warning, decorate the function with @tf.autograph.experimental.do_not_convert\n"
     ]
    },
    {
     "name": "stdout",
     "output_type": "stream",
     "text": [
      "WARNING: AutoGraph could not transform <function normalize_img at 0x29036aee0> and will run it as-is.\n",
      "Cause: Unable to locate the source code of <function normalize_img at 0x29036aee0>. Note that functions defined in certain environments, like the interactive Python shell, do not expose their source code. If that is the case, you should define them in a .py source file. If you are certain the code is graph-compatible, wrap the call using @tf.autograph.experimental.do_not_convert. Original error: could not get source code\n",
      "To silence this warning, decorate the function with @tf.autograph.experimental.do_not_convert\n",
      "Epoch 1/12\n"
     ]
    },
    {
     "name": "stderr",
     "output_type": "stream",
     "text": [
      "2022-03-25 08:04:17.745520: W tensorflow/core/platform/profile_utils/cpu_utils.cc:128] Failed to get CPU frequency: 0 Hz\n",
      "2022-03-25 08:04:17.745620: I tensorflow/core/grappler/optimizers/custom_graph_optimizer_registry.cc:113] Plugin optimizer for device_type GPU is enabled.\n"
     ]
    },
    {
     "name": "stdout",
     "output_type": "stream",
     "text": [
      "469/469 [==============================] - ETA: 0s - loss: 0.1593 - accuracy: 0.9530"
     ]
    },
    {
     "name": "stderr",
     "output_type": "stream",
     "text": [
      "2022-03-25 08:04:28.306505: I tensorflow/core/grappler/optimizers/custom_graph_optimizer_registry.cc:113] Plugin optimizer for device_type GPU is enabled.\n"
     ]
    },
    {
     "name": "stdout",
     "output_type": "stream",
     "text": [
      "469/469 [==============================] - 12s 15ms/step - loss: 0.1593 - accuracy: 0.9530 - val_loss: 0.0475 - val_accuracy: 0.9845\n",
      "Epoch 2/12\n",
      "469/469 [==============================] - 7s 15ms/step - loss: 0.0438 - accuracy: 0.9865 - val_loss: 0.0342 - val_accuracy: 0.9885\n",
      "Epoch 3/12\n",
      "469/469 [==============================] - 7s 15ms/step - loss: 0.0267 - accuracy: 0.9918 - val_loss: 0.0434 - val_accuracy: 0.9867\n",
      "Epoch 4/12\n",
      "469/469 [==============================] - 7s 14ms/step - loss: 0.0180 - accuracy: 0.9942 - val_loss: 0.0339 - val_accuracy: 0.9895\n",
      "Epoch 5/12\n",
      "469/469 [==============================] - 7s 14ms/step - loss: 0.0135 - accuracy: 0.9958 - val_loss: 0.0337 - val_accuracy: 0.9887\n",
      "Epoch 6/12\n",
      "469/469 [==============================] - 6s 14ms/step - loss: 0.0104 - accuracy: 0.9964 - val_loss: 0.0373 - val_accuracy: 0.9886\n",
      "Epoch 7/12\n",
      "469/469 [==============================] - 7s 14ms/step - loss: 0.0067 - accuracy: 0.9980 - val_loss: 0.0405 - val_accuracy: 0.9881\n",
      "Epoch 8/12\n",
      "469/469 [==============================] - 7s 14ms/step - loss: 0.0054 - accuracy: 0.9983 - val_loss: 0.0452 - val_accuracy: 0.9880\n",
      "Epoch 9/12\n",
      "469/469 [==============================] - 7s 14ms/step - loss: 0.0070 - accuracy: 0.9976 - val_loss: 0.0384 - val_accuracy: 0.9892\n",
      "Epoch 10/12\n",
      "469/469 [==============================] - 7s 14ms/step - loss: 0.0048 - accuracy: 0.9983 - val_loss: 0.0355 - val_accuracy: 0.9915\n",
      "Epoch 11/12\n",
      "469/469 [==============================] - 6s 14ms/step - loss: 0.0042 - accuracy: 0.9987 - val_loss: 0.0358 - val_accuracy: 0.9920\n",
      "Epoch 12/12\n",
      "469/469 [==============================] - 7s 14ms/step - loss: 0.0042 - accuracy: 0.9987 - val_loss: 0.0497 - val_accuracy: 0.9887\n",
      "CPU times: user 36 s, sys: 25.8 s, total: 1min 1s\n",
      "Wall time: 1min 30s\n"
     ]
    },
    {
     "data": {
      "text/plain": [
       "<keras.callbacks.History at 0x292ac82b0>"
      ]
     },
     "execution_count": 2,
     "metadata": {},
     "output_type": "execute_result"
    }
   ],
   "source": [
    "%%time\n",
    "import tensorflow as tf\n",
    "import tensorflow_datasets as tfds\n",
    "print(\"TensorFlow version:\", tf.__version__)\n",
    "print(\"Num GPUs Available: \", len(tf.config.experimental.list_physical_devices('GPU')))\n",
    "tf.config.list_physical_devices('GPU')\n",
    "(ds_train, ds_test), ds_info = tfds.load(\n",
    "    'mnist',\n",
    "    split=['train', 'test'],\n",
    "    shuffle_files=True,\n",
    "    as_supervised=True,\n",
    "    with_info=True,\n",
    ")\n",
    "def normalize_img(image, label):\n",
    "  \"\"\"Normalizes images: `uint8` -> `float32`.\"\"\"\n",
    "  return tf.cast(image, tf.float32) / 255., label\n",
    "batch_size = 128\n",
    "ds_train = ds_train.map(\n",
    "    normalize_img, num_parallel_calls=tf.data.experimental.AUTOTUNE)\n",
    "ds_train = ds_train.cache()\n",
    "ds_train = ds_train.shuffle(ds_info.splits['train'].num_examples)\n",
    "ds_train = ds_train.batch(batch_size)\n",
    "ds_train = ds_train.prefetch(tf.data.experimental.AUTOTUNE)\n",
    "ds_test = ds_test.map(\n",
    "    normalize_img, num_parallel_calls=tf.data.experimental.AUTOTUNE)\n",
    "ds_test = ds_test.batch(batch_size)\n",
    "ds_test = ds_test.cache()\n",
    "ds_test = ds_test.prefetch(tf.data.experimental.AUTOTUNE)\n",
    "model = tf.keras.models.Sequential([\n",
    "  tf.keras.layers.Conv2D(32, kernel_size=(3, 3),\n",
    "                 activation='relu'),\n",
    "  tf.keras.layers.Conv2D(64, kernel_size=(3, 3),\n",
    "                 activation='relu'),\n",
    "  tf.keras.layers.MaxPooling2D(pool_size=(2, 2)),\n",
    "#   tf.keras.layers.Dropout(0.25),\n",
    "  tf.keras.layers.Flatten(),\n",
    "  tf.keras.layers.Dense(128, activation='relu'),\n",
    "#   tf.keras.layers.Dropout(0.5),\n",
    "  tf.keras.layers.Dense(10, activation='softmax')\n",
    "])\n",
    "model.compile(\n",
    "    loss='sparse_categorical_crossentropy',\n",
    "    optimizer=tf.keras.optimizers.Adam(0.001),\n",
    "    metrics=['accuracy'],\n",
    ")\n",
    "model.fit(\n",
    "    ds_train,\n",
    "    epochs=12,\n",
    "    validation_data=ds_test,\n",
    ")"
   ]
  },
  {
   "cell_type": "code",
   "execution_count": null,
   "id": "692d6815",
   "metadata": {},
   "outputs": [],
   "source": []
  }
 ],
 "metadata": {
  "kernelspec": {
   "display_name": "Python 3 (ipykernel)",
   "language": "python",
   "name": "python3"
  },
  "language_info": {
   "codemirror_mode": {
    "name": "ipython",
    "version": 3
   },
   "file_extension": ".py",
   "mimetype": "text/x-python",
   "name": "python",
   "nbconvert_exporter": "python",
   "pygments_lexer": "ipython3",
   "version": "3.9.12"
  }
 },
 "nbformat": 4,
 "nbformat_minor": 5
}
