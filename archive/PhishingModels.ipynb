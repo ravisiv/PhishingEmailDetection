{
 "cells": [
  {
   "cell_type": "code",
   "execution_count": null,
   "id": "91fd1c2e",
   "metadata": {},
   "outputs": [],
   "source": [
    "#Any imports\n",
    "\n"
   ]
  },
  {
   "cell_type": "code",
   "execution_count": 1,
   "id": "c45d3da8",
   "metadata": {},
   "outputs": [],
   "source": [
    "def run_randomforestclassifier(df):\n",
    "    return None\n",
    "    "
   ]
  },
  {
   "cell_type": "code",
   "execution_count": 2,
   "id": "d9c805e4",
   "metadata": {},
   "outputs": [],
   "source": [
    "def run_naivebaiyes(df):\n",
    "    return None"
   ]
  },
  {
   "cell_type": "code",
   "execution_count": 3,
   "id": "24fd8c71",
   "metadata": {},
   "outputs": [],
   "source": [
    "def run_kmeans(df):\n",
    "    return None"
   ]
  },
  {
   "cell_type": "code",
   "execution_count": 4,
   "id": "dc538f35",
   "metadata": {},
   "outputs": [],
   "source": [
    "def run_xgboost(df):\n",
    "    return None\n",
    "    \n",
    "    "
   ]
  },
  {
   "cell_type": "code",
   "execution_count": 5,
   "id": "0e04987a",
   "metadata": {},
   "outputs": [],
   "source": [
    "def run_faiss(df):\n",
    "    return None\n",
    "        \n",
    "        "
   ]
  },
  {
   "cell_type": "code",
   "execution_count": 6,
   "id": "c42a7c8d",
   "metadata": {},
   "outputs": [],
   "source": [
    "def run_BERT(df):\n",
    "    return None"
   ]
  },
  {
   "cell_type": "code",
   "execution_count": 7,
   "id": "79f0e40f",
   "metadata": {},
   "outputs": [],
   "source": [
    "def run_KERAS(df):\n",
    "    return None\n"
   ]
  },
  {
   "cell_type": "code",
   "execution_count": 8,
   "id": "75a4ead0",
   "metadata": {},
   "outputs": [],
   "source": [
    "def run_pytorch(df):\n",
    "    return None"
   ]
  },
  {
   "cell_type": "code",
   "execution_count": null,
   "id": "6c784153",
   "metadata": {},
   "outputs": [],
   "source": []
  }
 ],
 "metadata": {
  "kernelspec": {
   "display_name": "Python 3 (ipykernel)",
   "language": "python",
   "name": "python3"
  },
  "language_info": {
   "codemirror_mode": {
    "name": "ipython",
    "version": 3
   },
   "file_extension": ".py",
   "mimetype": "text/x-python",
   "name": "python",
   "nbconvert_exporter": "python",
   "pygments_lexer": "ipython3",
   "version": "3.9.7"
  }
 },
 "nbformat": 4,
 "nbformat_minor": 5
}
