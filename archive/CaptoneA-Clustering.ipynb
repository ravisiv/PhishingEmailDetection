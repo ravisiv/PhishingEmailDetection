{
 "cells": [
  {
   "cell_type": "markdown",
   "id": "14345790",
   "metadata": {},
   "source": [
    "### Capstone A - Clustering\n"
   ]
  },
  {
   "cell_type": "code",
   "execution_count": 1,
   "id": "fffec101",
   "metadata": {},
   "outputs": [],
   "source": [
    "import numpy as np\n",
    "import matplotlib.pyplot as plt\n",
    "import pandas as pd\n",
    "import os\n",
    "from os.path import isfile\n",
    "import email\n",
    "#import BeautifulSoup\n",
    "from bs4 import BeautifulSoup\n",
    "import re\n",
    "from sklearn.naive_bayes import MultinomialNB\n",
    "from sklearn.metrics import silhouette_score\n",
    "import hdbscan\n",
    "from sklearn.cluster import KMeans\n",
    "from sklearn.model_selection import cross_val_predict\n",
    "from sklearn.metrics import classification_report\n",
    "from sklearn.model_selection import cross_validate\n",
    "from sklearn.linear_model import LogisticRegression\n",
    "from sklearn.feature_extraction.text import TfidfVectorizer\n",
    "from sklearn.metrics import accuracy_score\n",
    "from sklearn.model_selection import StratifiedKFold\n",
    "from sklearn.model_selection import GridSearchCV\n",
    "import seaborn as sns\n",
    "from sklearn.preprocessing import label_binarize\n",
    "from sklearn import metrics as mt\n",
    "from sklearn.feature_extraction import text\n",
    "from wordcloud import WordCloud\n",
    "from scipy.sparse import hstack\n",
    "\n",
    "import warnings\n",
    "warnings.filterwarnings(\"ignore\")"
   ]
  },
  {
   "cell_type": "code",
   "execution_count": 2,
   "id": "c3f978a4",
   "metadata": {},
   "outputs": [],
   "source": [
    "# location of emails\n",
    "data_path = \"/Users/ravis/Downloads/phishingdata\"\n",
    "# get all sub folders\n",
    "sub_folders = [x[0] for x in os.walk(data_path) if x[0] != data_path]"
   ]
  },
  {
   "cell_type": "code",
   "execution_count": 3,
   "id": "9a616236",
   "metadata": {},
   "outputs": [
    {
     "data": {
      "text/plain": [
       "['/Users/ravis/Downloads/phishingdata/testdata',\n",
       " '/Users/ravis/Downloads/phishingdata/testdata/apruvspam',\n",
       " '/Users/ravis/Downloads/phishingdata/testdata/apruvspam/spamfiles1',\n",
       " '/Users/ravis/Downloads/phishingdata/traindata',\n",
       " '/Users/ravis/Downloads/phishingdata/traindata/spam',\n",
       " '/Users/ravis/Downloads/phishingdata/traindata/hard_ham',\n",
       " '/Users/ravis/Downloads/phishingdata/traindata/spam_2',\n",
       " '/Users/ravis/Downloads/phishingdata/traindata/easy_ham',\n",
       " '/Users/ravis/Downloads/phishingdata/traindata/ravispam',\n",
       " '/Users/ravis/Downloads/phishingdata/traindata/easy_ham_2']"
      ]
     },
     "execution_count": 3,
     "metadata": {},
     "output_type": "execute_result"
    }
   ],
   "source": [
    "sub_folders"
   ]
  },
  {
   "cell_type": "code",
   "execution_count": 5,
   "id": "d55127fa",
   "metadata": {
    "scrolled": true
   },
   "outputs": [
    {
     "name": "stdout",
     "output_type": "stream",
     "text": [
      "CPU times: user 7.91 s, sys: 344 ms, total: 8.25 s\n",
      "Wall time: 9.38 s\n"
     ]
    }
   ],
   "source": [
    "%%time\n",
    "                   \n",
    "# read all emails from all sub folders\n",
    "mail_ty = []\n",
    "text_ty = []\n",
    "data = []\n",
    "target = []\n",
    "email_attachment = []\n",
    "attachment = False\n",
    "is_test_data = []\n",
    "\n",
    "for folder in sub_folders:\n",
    "    files = [f for f in os.listdir(folder) if os.path.isfile(os.path.join(folder, f))]\n",
    "    for file in files:\n",
    "        with open(f\"{folder}/{file}\", encoding=\"latin1\") as f:\n",
    "            #    with open(f\"{folder}/{file}\",\"r\") as f:\n",
    "            x = email.message_from_file(f)\n",
    "          #  print(x)\n",
    "    #    if (file != 'cmds'): \n",
    "    #        mail_data.append(lines)\n",
    "            \n",
    "        mail_type = x.get_content_type()\n",
    "        text_type = x.get_content_charset()\n",
    "        mail_ty.append(mail_type)\n",
    "        text_ty.append(text_type)\n",
    "        if re.search(\"spam\", folder):\n",
    "            target.append(1)\n",
    "        else:\n",
    "             target.append(0)\n",
    "        \n",
    "        if \"testdata\" in folder:\n",
    "            is_test_data.append(1)\n",
    "        else:\n",
    "            is_test_data.append(0)\n",
    "                               \n",
    "        if mail_type == \"text/html\":\n",
    "            if not (isinstance(x.get_payload(), str)) and x.get_payload().get('Content-Disposition'):\n",
    "                dispositions = x.get_payload().get(\"Content-Disposition\", None).strip().split(\";\")\n",
    "                if bool(dispositions[0].lower() == \"attachment\"):\n",
    "                    attachment = True\n",
    "                else:\n",
    "                    attachment = False\n",
    "          \n",
    "            tmp = BeautifulSoup(x.get_payload(), 'html.parser')\n",
    "            tmp = tmp.text.replace(\"\\n\", \" \")\n",
    "            data.append(tmp)\n",
    "        elif \"multipart\" in mail_type:\n",
    "            attachment = False\n",
    "            multipart_data = []\n",
    "            for text in x.get_payload():                        \n",
    "                if not isinstance(text, str): \n",
    "                    if text.get('Content-Disposition'):\n",
    "                        dispositions = text.get(\"Content-Disposition\", None).strip().split(\";\")\n",
    "                        if bool(dispositions[0].lower() == \"attachment\"):\n",
    "                            attachment = True\n",
    "                            \n",
    "                    if text.get_content_type() == \"text/html\":\n",
    "                        tmp = BeautifulSoup(text.get_payload(), 'html.parser')\n",
    "                        tmp = tmp.text.replace(\"\\n\", \" \")\n",
    "                        multipart_data.append(tmp)\n",
    "                    elif text.get_content_type() == \"text/plain\":\n",
    "                        multipart_data.append(text.get_payload()) \n",
    "                \n",
    "            multipart_email = [''.join(str(item)) for item in multipart_data]\n",
    "            data.append(multipart_email)\n",
    "        else:\n",
    "            if not (isinstance(x.get_payload(), str)) and x.get_payload().get('Content-Disposition'):\n",
    "                dispositions = x.get_payload().get(\"Content-Disposition\", None).strip().split(\";\")\n",
    "                if bool(dispositions[0].lower() == \"attachment\"):\n",
    "                    attachment = True\n",
    "                else:\n",
    "                    attachment = False\n",
    "            data.append(x.get_payload()) \n",
    "            \n",
    "        if attachment:\n",
    "            email_attachment.append(1)\n",
    "        else:\n",
    "            email_attachment.append(0)\n",
    "                        \n",
    "                \n",
    "# Reference: https://gaurav.kuwar.us/index.php/2017/10/09/extracting-files-from-raw-email-with-python/"
   ]
  },
  {
   "cell_type": "code",
   "execution_count": 6,
   "id": "37a2e6b1",
   "metadata": {},
   "outputs": [],
   "source": [
    "df = pd.DataFrame()"
   ]
  },
  {
   "cell_type": "code",
   "execution_count": 7,
   "id": "807f3e57",
   "metadata": {},
   "outputs": [],
   "source": [
    "df[\"mail_types\"] = mail_ty\n",
    "df[\"text_types\"] = text_ty"
   ]
  },
  {
   "cell_type": "code",
   "execution_count": 8,
   "id": "ba16dd7f",
   "metadata": {
    "scrolled": true
   },
   "outputs": [
    {
     "data": {
      "text/plain": [
       "text/plain                     7511\n",
       "text/html                      1390\n",
       "multipart/alternative           556\n",
       "multipart/mixed                 192\n",
       "multipart/signed                180\n",
       "multipart/digest                 64\n",
       "multipart/related                58\n",
       "multipart/report                 19\n",
       "multipart/encrypted               1\n",
       "text/plain charset=us-ascii       1\n",
       "Name: mail_types, dtype: int64"
      ]
     },
     "execution_count": 8,
     "metadata": {},
     "output_type": "execute_result"
    }
   ],
   "source": [
    "# Count of mail types           \n",
    "df[\"mail_types\"].value_counts()"
   ]
  },
  {
   "cell_type": "code",
   "execution_count": 9,
   "id": "afd1b617",
   "metadata": {},
   "outputs": [
    {
     "data": {
      "text/plain": [
       "us-ascii           3427\n",
       "iso-8859-1         1960\n",
       "windows-1252        197\n",
       "utf-8               134\n",
       "iso-8859-15         104\n",
       "default              15\n",
       "iso-8859-2           13\n",
       "windows-1251         13\n",
       "iso-2022-jp          12\n",
       "gb2312               11\n",
       "default_charset      10\n",
       "ks_c_5601-1987        7\n",
       "koi8-r                6\n",
       "windows-1254          6\n",
       "iso-8859-9            4\n",
       "ascii                 2\n",
       "unknown-8bit          2\n",
       "iso-8859-3            1\n",
       "gb2312_charset        1\n",
       "windows-1256          1\n",
       "chinesebig5           1\n",
       "euc-kr                1\n",
       "Name: text_types, dtype: int64"
      ]
     },
     "execution_count": 9,
     "metadata": {},
     "output_type": "execute_result"
    }
   ],
   "source": [
    "# Count of text types\n",
    "df[\"text_types\"].value_counts()"
   ]
  },
  {
   "cell_type": "code",
   "execution_count": 11,
   "id": "5d4c716f",
   "metadata": {},
   "outputs": [],
   "source": [
    "# Create a data frame with email text and target (whether mail is spam or not, 1 for spam and 0 for not a spam)\n",
    "email_df = pd.DataFrame()\n",
    "email_df[\"data\"] = data\n",
    "#email_df[\"mail_type\"] = mail_ty\n",
    "#email_df[\"text_type\"] = text_ty\n",
    "email_df[\"target\"] = target\n",
    "email_df[\"Attachments\"] = email_attachment\n",
    "email_df[\"istestdata\"] = is_test_data"
   ]
  },
  {
   "cell_type": "code",
   "execution_count": 12,
   "id": "533f614d",
   "metadata": {},
   "outputs": [
    {
     "data": {
      "text/plain": [
       "0    6956\n",
       "1    3016\n",
       "Name: target, dtype: int64"
      ]
     },
     "execution_count": 12,
     "metadata": {},
     "output_type": "execute_result"
    }
   ],
   "source": [
    "email_df['target'].value_counts()"
   ]
  },
  {
   "cell_type": "code",
   "execution_count": 13,
   "id": "729f0b1a",
   "metadata": {},
   "outputs": [
    {
     "data": {
      "text/html": [
       "<div>\n",
       "<style scoped>\n",
       "    .dataframe tbody tr th:only-of-type {\n",
       "        vertical-align: middle;\n",
       "    }\n",
       "\n",
       "    .dataframe tbody tr th {\n",
       "        vertical-align: top;\n",
       "    }\n",
       "\n",
       "    .dataframe thead th {\n",
       "        text-align: right;\n",
       "    }\n",
       "</style>\n",
       "<table border=\"1\" class=\"dataframe\">\n",
       "  <thead>\n",
       "    <tr style=\"text-align: right;\">\n",
       "      <th></th>\n",
       "      <th>data</th>\n",
       "      <th>target</th>\n",
       "      <th>Attachments</th>\n",
       "      <th>istestdata</th>\n",
       "    </tr>\n",
       "  </thead>\n",
       "  <tbody>\n",
       "    <tr>\n",
       "      <th>0</th>\n",
       "      <td>\u0000\u0000\u0000\u0001Bud1\u0000\u0000\u0010\u0000\u0000\u0000\b\u0000\u0000\u0000\u0010\u0000\u0000\u0000\u0002\\t\u0000\u0000\u0000\u0000\u0000\u0000\u0000\u0000\u0000\u0000\u0000\u0000\u0000\u0000\u0000\u0000\u0000\u0000\u0000\u0000\u0000...</td>\n",
       "      <td>0</td>\n",
       "      <td>0</td>\n",
       "      <td>1</td>\n",
       "    </tr>\n",
       "    <tr>\n",
       "      <th>1</th>\n",
       "      <td>\u0000\u0000\u0000\u0001Bud1\u0000\u0000\u0010\u0000\u0000\u0000\b\u0000\u0000\u0000\u0010\u0000\u0000\u0000\u0002\\t\u0000\u0000\u0000\u0000\u0000\u0000\u0000\u0000\u0000\u0000\u0000\u0000\u0000\u0000\u0000\u0000\u0000\u0000\u0000\u0000\u0000...</td>\n",
       "      <td>1</td>\n",
       "      <td>0</td>\n",
       "      <td>1</td>\n",
       "    </tr>\n",
       "    <tr>\n",
       "      <th>2</th>\n",
       "      <td>PGRpdiBzdHlsZT0icGFkZGluZzogNXB4OyBmb250LWZhbW...</td>\n",
       "      <td>1</td>\n",
       "      <td>0</td>\n",
       "      <td>1</td>\n",
       "    </tr>\n",
       "    <tr>\n",
       "      <th>3</th>\n",
       "      <td>[ Carson,   Thank you for your interest in ???...</td>\n",
       "      <td>1</td>\n",
       "      <td>0</td>\n",
       "      <td>1</td>\n",
       "    </tr>\n",
       "    <tr>\n",
       "      <th>4</th>\n",
       "      <td>[Three recently published reports suggest skil...</td>\n",
       "      <td>1</td>\n",
       "      <td>0</td>\n",
       "      <td>1</td>\n",
       "    </tr>\n",
       "    <tr>\n",
       "      <th>...</th>\n",
       "      <td>...</td>\n",
       "      <td>...</td>\n",
       "      <td>...</td>\n",
       "      <td>...</td>\n",
       "    </tr>\n",
       "    <tr>\n",
       "      <th>9967</th>\n",
       "      <td>I'm one of the 30,000 but it's not working ver...</td>\n",
       "      <td>0</td>\n",
       "      <td>0</td>\n",
       "      <td>0</td>\n",
       "    </tr>\n",
       "    <tr>\n",
       "      <th>9968</th>\n",
       "      <td>Damien Morton quoted:\\n&gt;W3C approves HTML 4 'e...</td>\n",
       "      <td>0</td>\n",
       "      <td>0</td>\n",
       "      <td>0</td>\n",
       "    </tr>\n",
       "    <tr>\n",
       "      <th>9969</th>\n",
       "      <td>On Mon, 2002-07-22 at 06:50, che wrote:\\n\\n&gt; t...</td>\n",
       "      <td>0</td>\n",
       "      <td>0</td>\n",
       "      <td>0</td>\n",
       "    </tr>\n",
       "    <tr>\n",
       "      <th>9970</th>\n",
       "      <td>Once upon a time, Manfred wrote :\\n\\n&gt; I would...</td>\n",
       "      <td>0</td>\n",
       "      <td>0</td>\n",
       "      <td>0</td>\n",
       "    </tr>\n",
       "    <tr>\n",
       "      <th>9971</th>\n",
       "      <td>If you run Pick, and then use the \"New FTOC\" b...</td>\n",
       "      <td>0</td>\n",
       "      <td>0</td>\n",
       "      <td>0</td>\n",
       "    </tr>\n",
       "  </tbody>\n",
       "</table>\n",
       "<p>9972 rows × 4 columns</p>\n",
       "</div>"
      ],
      "text/plain": [
       "                                                   data  target  Attachments  \\\n",
       "0     \u0000\u0000\u0000\u0001Bud1\u0000\u0000\u0010\u0000\u0000\u0000\b\u0000\u0000\u0000\u0010\u0000\u0000\u0000\u0002\\t\u0000\u0000\u0000\u0000\u0000\u0000\u0000\u0000\u0000\u0000\u0000\u0000\u0000\u0000\u0000\u0000\u0000\u0000\u0000\u0000\u0000...       0            0   \n",
       "1     \u0000\u0000\u0000\u0001Bud1\u0000\u0000\u0010\u0000\u0000\u0000\b\u0000\u0000\u0000\u0010\u0000\u0000\u0000\u0002\\t\u0000\u0000\u0000\u0000\u0000\u0000\u0000\u0000\u0000\u0000\u0000\u0000\u0000\u0000\u0000\u0000\u0000\u0000\u0000\u0000\u0000...       1            0   \n",
       "2     PGRpdiBzdHlsZT0icGFkZGluZzogNXB4OyBmb250LWZhbW...       1            0   \n",
       "3     [ Carson,   Thank you for your interest in ???...       1            0   \n",
       "4     [Three recently published reports suggest skil...       1            0   \n",
       "...                                                 ...     ...          ...   \n",
       "9967  I'm one of the 30,000 but it's not working ver...       0            0   \n",
       "9968  Damien Morton quoted:\\n>W3C approves HTML 4 'e...       0            0   \n",
       "9969  On Mon, 2002-07-22 at 06:50, che wrote:\\n\\n> t...       0            0   \n",
       "9970  Once upon a time, Manfred wrote :\\n\\n> I would...       0            0   \n",
       "9971  If you run Pick, and then use the \"New FTOC\" b...       0            0   \n",
       "\n",
       "      istestdata  \n",
       "0              1  \n",
       "1              1  \n",
       "2              1  \n",
       "3              1  \n",
       "4              1  \n",
       "...          ...  \n",
       "9967           0  \n",
       "9968           0  \n",
       "9969           0  \n",
       "9970           0  \n",
       "9971           0  \n",
       "\n",
       "[9972 rows x 4 columns]"
      ]
     },
     "execution_count": 13,
     "metadata": {},
     "output_type": "execute_result"
    }
   ],
   "source": [
    "email_df"
   ]
  },
  {
   "cell_type": "code",
   "execution_count": 14,
   "id": "0aeb420a",
   "metadata": {},
   "outputs": [
    {
     "data": {
      "text/plain": [
       "[\" Carson,   Thank you for your interest in ????irbat????. I would love to help answer any questions that you have about our ????aizqy???? products. Please let me know when we can set up a conference call to discuss and demo the software. I am available Monday afternoon or Tuesday afternoon. In His Service,   Stacey Blackstock Ministry Consultant (Office) 751.897.7245, ext. 4080 (Cell) 106.220.1685 (Fax) 210.230.3320 taa--dxbtd--klfs---------------------------------------aho--syejv--mpvs  pwl--yokim--wtka---------------------------------------klq--wratl--lhrx Thank you very much for your orderOn behalf of everyone at VAVYQ, we would like to thank you for ivlzhf. We value the trust you have put in our DQSI and would like to thank you for that. RI s always a pleasure serving you and we certainly look forward to doing that  VERIFY YOUR EMAIL ACCOUNT      yvn--jtqmn--rmbe---------------------------------------mhi--zbpqr--hilu Thank you for submitting your feedback. Thank you for contacting ????qbw???? ????yptr????, your message has been received and has been forwarded for the attention of our Customer Care team. We welcome all feedback and aim to provide you with a personal response within 48 hours. However, if your enquiry is urgent and requires an immediate response then please do not hesitate to contact a member of our Customer Care team directly by telephone on 04206 382 171. Thank you for your patience whilst we work to provide your response. Yours SincerelyCustomer Care Team uey--nbcza--zxau---------------------------------------mth--lbmta--qroy Hi James, Welcome to the ????cygxp???? website. Please click this link to validate your email address. Once validated you will receive emails about the types of events in which you have expressed interest. Kind regards, ????xmhdk???? Business Manager. This is an email from the Technical Communicators Association of New Zealand Inc., 198 Rowesdale Drive, Ohauiti, Tauranga 3112, New Zealand. If you have any questions, please email businessmanager or call +08 9 655-1538. If you wish to unsubscribe from all ????zzlqv???? emails send email to businessmanager with â\\x80\\x98UNSUBSCRIBEâ\\x80\\x99 in the subject line. OR,If you only wish to unsubscribe from a particular email list then:a) click unsubscribeb) login to the websitec) deselect email list(s) from which you wish to unsubscribe. Copyright 2018 Technical Communicators Association of New Zealand Inc., All Rights Reserved.Unsubscribe ecj--puopa--ywvu---------------------------------------yhn--erjro--gmsz Joan,Thank you for registering with ????fvlnd????Verify my email address Please keep this email safe, as you will need this information to access your ????hqhub???? tools once you have verified your account. To verify your account please click on the following link.   If your browser does not open, please copy and paste the link into your browserâ\\x80\\x99s address bar. Once you have verified your account, youâ\\x80\\x99ll be able to login using the link below:   If you require any assistance, please call us on 0950 407 951 FREE between 8am-5pm Monday to Friday, or email us at: Regards Customer Service Signature ????yjvzs???? rhw--tpdtq--skjh---------------------------------------woq--xgvap--xzln Reset your password Hello Eve Langley Thank you for requesting us to reset your ????rautd???? website password. To reset your password please visit the following web page and enter your password reset token:   Your password reset token is vwggdterlsihsxzjnhfnnhei. It will expire at 1:01 GMT ON 07 Oct 2018 Can't click on the link? Copy and paste it in to your web browser If you need help please call us on 6996 6978847or email Many thanks ????igsut???? Team ney--fbrbb--inem---------------------------------------poc--bzkgm--tsdm   ivg--jbemr--ojiy---------------------------------------oaj--rxuuc--ywqc Registration Confirmation Dear peter Thank you for registering with Protocol Education, we will be in contact with you shortly. If you have any questions please contact your local branch. We look forward to working with you. Kind regards Protocol Education Search and apply for jobs   Protocol EducationSelect Your 2021 Health Plan Now. sYR  Connect with Protocol on Social Media! mny--njgqr--ijhd---------------------------------------ngv--uegsi--nezk Dear Reader: Diabetes is one of the most common chronic diseases of childhood, affecting over 13,000 children in New York State. This disease requires a unique, complex and inseparable blend of self-care and medical care. Parents, schools, communities and the health care team must work collaboratively to provide information and training to ensure that children with diabetes can participate fully and safely in all settings, especially school.  The New York State Department of Health Diabetes Prevention and Control Program is working to provide comprehensive and up-to-date resources that help children with diabetes grow up to be healthy and productive adults. It is my hope that you will find Children with Diabetes: A Resource Guide for Families and Schools to be a valuable tool. In addition to the wealth of information provided in the first edition of the resource guide, this revised guide now addresses the serious emerging issues of childhood obesity/overweight and type 2 diabetes in children, and provides promising strategies to reduce risk. I would like to thank the many committed individuals who contributed their time and expertise to this project. It is this type of successful collaboration that makes New York stand out as a leader in public health. Health care and education are critically important components of childhood development and all of New Yorkâ\\x80\\x99s children deserve a bright and healthy future. Sincerely, Nirav R. Shah, M.D., M.P.H., Commissioner?5 fqh--uelov--tcgd---------------------------------------nng--apmrt--xygk  ihx--ifsmc--rblv---------------------------------------bgx--shxsb--wktg  Hello, Thanks for registering with ????qyiZH????? My Account.To access My Account please login using the email and password you provided. Once logged in you will be able to order new services, view existing orders, check current and previous bills, manage your account settings and more. If you didn't register with ????Msseb????? My Account please call us on 1980661897 to let us know. Thanks,????pvFWU????? Customer Services ----2DjKhpiV;WKYTUc Dear Student,Pursuant to the Abraham S. Fischler College of Education (FCE) Student GrievanceProcedure, the Grievance Form is for use in filing a grievance when a satisfactoryresolution is not achieved through a formal appeal. Please note that this form and anysupporting documentation must be properly completed, received, and on file in theOffice of Student Judicial Affairs (OSJA) within fifteen (15) days following receipt ofcorrespondence disclosing the appeal committeeâ\\x80\\x99s decision, otherwise, the grievancewill no longer be eligible for review. Students are encouraged to submit the GrievanceForm, and any supporting documentation, well in advance of the fifteen (15) daydeadline for submission.Should you have any questions or need assistance with the completion and/orsubmission of a grievance, please contact OSJA at 1906415345 (toll free at 2581606751, ext. 43239)Sincerely,Office of Student Judicial AffairsAbraham S. Fischler College of Education ----pufjsGhp;ISMmpU  ----pscsaMPL;hJVgbf ----3k5yH3Jg;shNQkG----DgSp3OsZ;UwAobO                                        Voter Information                                                                                                                                                  ----vrUP3Tnd;rYKdqO----7D22BSV6;uQgaYh Reset your password Hello Eve Langley Thank you for requesting us to reset your ????ppjgs???? website password. To reset your password please visit the following web page and enter your password reset token:   Your password reset token is ldottkehgamigsdugqykbbop. It will expire at 1:01 GMT ON 07 Oct 2018 Can't click on the link? Copy and paste it in to your web browser If you need help please call us on 7734 8365280or email Many thanks ????duyan???? Team ----xLtPvk90;RXctnN----A4Bu5KTf;TZSwUS Please visit the following link in order to activate your account:????fbyfo???? Your password has been securely stored in our database and cannot be retrieved. In the event that it is forgotten, you will be able to reset ????qfbdx???? using the email address associated with your account.????owcsv???? Thank you for registering.????pqomj???? ----LgwcspIY;lDWzGf Please Confirm Your Registration Youâ\\x80\\x99re almost done! Please click below to confirm your subscription to the GKBOKOHO newsletter and receive your Welcome Bonus code. CLICK HERE TO CONFIRM The following email address has been registered. This confirmation has been generated to make sure that you have subscribed to and would like to have our newsletter sent to this email address. f you received this email by mistake, simply delete it. You won't be subscribed if you don't click the confirmation link above. Best Regards, The RRWYFHAA Team ----og22bvsT;dLrKjn----5v4VHclr;zCGagL                         Welcome               Activate Your Account:  To complete the activation of your account, go to the following link and click on the 'Activate' button:  Below are the getting started instructions:  Log into your account and youâ\\x80\\x99ll get all your purchased courses at â\\x80\\x9cCoursesâ\\x80\\x9d tab of your dashboard. Complete all the units. Submit your final exam/assessment. After successful completion of the course, our students can buy an Accredited Certificate for an additional fee.             Login to Your Account          Get Your Student ID Card   Student ID Card benefits     Discounts for your favorite stores and restaurants. Cheaper cinema tickets to all the latest films. Discounted library and gym membership fees. Amazing savings and more money to spend on the things you love.               Get Your Student ID Now                    Webversion Unsubscribe About us                                            ----6FGTCVf9;MoVHKX----EEKeUGUN;HvuQlo   Dear Student, I hope youâ\\x80\\x99re having an enjoyable run-up to the start of your journey at The University of Chicago. I am writing to let you know that it is time to schedule your required advising appointment with your Summer Adviser. To do so, go to College Scheduling, select â\\x80\\x9cSchedule a Summer advising appointment with your College Adviser,â\\x80\\x9d and log in with your CNetID. You can currently choose between an in-person or a phone meeting. If you prefer a phone meeting, please include the best number at which to reach you in your appointment request and your Summer Adviser will call you when the appointment begins. Appointments are typically available between 8 a.m. and 4:30 p.m. CDT. amx--dvwpz--wqfi---------------------------------------twq--wdcll--kcry  ----SbfqMp2N;gWbHSZ----4B1CtLZ9;GoeZHN ----3ALKXsNh;MGnlJl----AW8KHgEZ;UxBxtr ----My57OwrF;eYlSvr ----7FSwJA7c;qMZUOC----meTvO185;hrmXWS ----G7BvGd79;uVdVeD----CL56IIHy;UmBezh ----IONAtZzm;gpZOvK----5zbHDI0O;gIuGgt ----R5UCZ43H;CAHsNg----VpxkEE6W;EfHdYV krh--tgdie--gssz---------------------------------------knt--wkpfq--sjpt ----EdHcd0V2;dxzdBB----NVaQx0EE;TDFezG GitHub Reset your GitHub password GitHub password reset We heard that you lost your GitHub password. Sorry about that! But donâ\\x80\\x99t worry! You can use the following button to reset your password: Reset your password If you donâ\\x80\\x99t use this link within 3 hours, it will expire. To get a new password reset link, visit: ????jasyt???? ????pdcc???? Thanks, The GitHub Team ----YOL5SVUz;clhrrv----fQTtrbZJ;seGQKO BIENVENUE CHEZ CRÃ\\x89DIT AGRICOLE IMMOBILIER !   Bonjour finshj arlond, Vous venez de crÃ©er un espace personnel sur CrÃ©dit Agricole Immobilier.Toute lâ\\x80\\x99Ã©quipe vous remercie de votre confiance et vous souhaite la bienvenue. - Vous pouvez dÃ¨s Ã\\xa0 prÃ©sent accÃ©der et modifier vos informations sur votre compte personnel. - GÃ©rer vos alertes, retrouvez vos favoris et tous nos guides pour mener Ã\\xa0 bien votre projet immobilier. Par mesure de sÃ©curitÃ©, nous vous demandons dâ\\x80\\x99activer votre compte en cliquant sur le lien ci-dessous : Nâ\\x80\\x99hÃ©sitez pas Ã\\xa0 nous contacter pour toutes questions. Nous vous souhaitons une bonne recherche sur notre site. Lâ\\x80\\x99Ã©quipe CrÃ©dit Agricole Immobilier.activer mon compte contactez-nous   Un problÃ¨me sur le site ? Â© CrÃ©dit Agricole Immobilier 2016 - CrÃ©dit Agricole Immobilier12 place des Ã\\x89tats-Unis â\\x80\\x93 92545 Montrouge Cedex. * du lundi au jeudi de 9h Ã\\xa0 19h, le vendredi de 9h Ã\\xa0 18h - appel non surtaxÃ© ----AryDTlze;cZvrJj----mv65h8sG;DxYONW  The Office of Lifelong and Life-wide Learning (O3L) is the non-academic credit action arm of the Drexel School of Education dedicated to extending the schoolâ\\x80\\x99s leadership role as a learning innovator with learners of all ages. While many learning opportunities are available through O3L without cost, the majority of those that result in a micro-credential have a fee attached. O3L Learning Resources are related to education and development for learners of all ages in all contexts, including School of Education alumni and current registered students.  Registrants may apply for micro-credentials, including badges, certificates, or continuing education units upon demonstrated competency in designated learning activities like courses and workshops. Coupled with courses for academic credit offerings of SoE, O3L products will enable the learner to create an â\\x80\\x9cEducation Passportâ\\x80\\x9d to the future.  As we evolve, O3L will feature recordings of scholarly and popular talks, as well as live and recorded instructional webinars, screencasts, podcasts, demonstrations, workshops, and trainings. O3L will also contain links to digitally printed articles, books, and handbooks. Curated lists of software tools relevant to education and learning are also included. Additionally, the O3L website includes listings of Professional Education Services (PES) offered by the School of Education faculty and its partners, including consulting for hire. As a compendium of resources and learning experiences, the purpose of O3L is to create transformative change in continuous learning throughout the lifespan.  ----nu0NGOkG;ipetDt----b2tlT0Wc;IggDJX Thank you for registering at EducationUSA. Your application for an account is currently pending approval. Once it has been approved, you will receive another e-mail containing information about how to log in, set your password, and other details. ----M6UwRcTc;qUkUoE----tTAJKMRN;kOcNZx You're just one step away from completing your My Rotary registration. Once there, you can join leaders, exchange ideas, and take action all in one place! Activate my account (If you encounter browser issues after clicking the link above, we recommend using a browser other than Internet Explorer. Right click on the link above and select â\\x80\\x9ccopy.â\\x80\\x9d Open Chrome or Firefox, and paste the link into the web address bar to go to the â\\x80\\x9cactivate accountâ\\x80\\x9d link.) ----ZajUcpfG;PZjqup----DL4OOj1g;UAfYCG Thanks for signing up to receive newsletters from Protocol!  In fact, youâ\\x80\\x99re joining a community of leaders, builders and thinkers who all want to know exactly whatâ\\x80\\x99s happening in tech right this minute. You know, the big decisions and business moves in the industry, how and why theyâ\\x80\\x99re being made, and what they mean for everyone else. Weâ\\x80\\x99ve got the scoops, the insights, the interviews, the stories behind the stories, and some just-plain-bonkers reporting that will keep you up to speed.  If you signed up for all our newsletters: great! If you signed up for one or some of them: also great! We hope that you like them enough to sign up for any of the others that might be useful in the future. So far, we have a daily newsletter thatâ\\x80\\x99s a vital read for the tech execs, and weekly newsletters about cloud and enterprise, VC and startups, and the world of tech finance. And more are in the works.  Oh, and did I mention that we have an amazing weekend podcast? We have an amazing weekend podcast.  OK, now all thatâ\\x80\\x99s out of the way, a little bit of housekeeping. First: Please add this email address to your contacts to make sure weâ\\x80\\x99re always in your inbox. Second: We love feedback, so send us your best and worst, and weâ\\x80\\x99ll strive to improve everything we do based on it. Third: Tell your friends! If you refer 10 people to our newsletters, weâ\\x80\\x99ll send you an awesome Protocol mug.  Weâ\\x80\\x99ll be back in your inbox again soon, but in the meantime, check out protocol for more stories from us.  Thanks, ----5TyCKvIY;otQBQP----KyLpasLy;zuEJFB    dwbbjcz dwbbjcz dwbbjcz dwbbjcz dwbbjcz dwbbjcz   dwbbjcz dwbbjcz dwbbjcz dwbbjcz dwbbjcz dwbbjcz dwbbjcz  dwbbjcz dwbbjcz dwbbjcz dwbbjcz dwbbjcz dwbbjcz dwbbjcz dwbbjcz dwbbjcz dwbbjcz dwbbjcz dwbbjcz  dwbbjcz dwbbjcz dwbbjcz dwbbjcz dwbbjcz dwbbjcz dwbbjcz dwbbjcz  dwbbjcz dwbbjcz dwbbjcz dwbbjcz dwbbjcz dwbbjcz dwbbjcz dwbbjcz dwbbjcz  dwbbjcz dwbbjcz dwbbjcz dwbbjcz dwbbjcz dwbbjcz dwbbjcz dwbbjcz  dwbbjcz dwbbjcz dwbbjcz dwbbjcz dwbbjcz dwbbjcz dwbbjcz dwbbjcz dwbbjcz dwbbjcz dwbbjcz  dwbbjcz dwbbjcz dwbbjcz dwbbjcz dwbbjcz dwbbjcz dwbbjcz dwbbjcz  dwbbjcz dwbbjcz dwbbjcz dwbbjcz dwbbjcz dwbbjcz dwbbjcz dwbbjcz  dwbbjcz dwbbjcz dwbbjcz dwbbjcz dwbbjcz dwbbjcz  dwbbjcz dwbbjcz dwbbjcz dwbbjcz dwbbjcz dwbbjcz dwbbjcz dwbbjcz  dwbbjcz dwbbjcz dwbbjcz dwbbjcz dwbbjcz dwbbjcz dwbbjcz dwbbjcz dwbbjcz dwbbjcz dwbbjcz dwbbjcz dwbbjcz dwbbjcz  dwbbjcz dwbbjcz dwbbjcz dwbbjcz dwbbjcz dwbbjcz dwbbjcz dwbbjcz  dwbbjcz dwbbjcz dwbbjcz dwbbjcz dwbbjcz dwbbjcz dwbbjcz dwbbjcz  dwbbjcz dwbbjcz dwbbjcz dwbbjcz dwbbjcz dwbbjcz dwbbjcz dwbbjcz  dwbbjcz dwbbjcz dwbbjcz dwbbjcz dwbbjcz dwbbjcz dwbbjcz dwbbjcz  dwbbjcz dwbbjcz dwbbjcz dwbbjcz dwbbjcz dwbbjcz dwbbjcz dwbbjcz  dwbbjcz dwbbjcz dwbbjcz dwbbjcz dwbbjcz dwbbjcz dwbbjcz dwbbjcz  dwbbjcz dwbbjcz dwbbjcz dwbbjcz dwbbjcz dwbbjcz dwbbjcz dwbbjcz  dwbbjcz dwbbjcz dwbbjcz dwbbjcz dwbbjcz dwbbjcz dwbbjcz dwbbjcz dwbbjcz \"]"
      ]
     },
     "execution_count": 14,
     "metadata": {},
     "output_type": "execute_result"
    }
   ],
   "source": [
    "email_df.loc[3].data"
   ]
  },
  {
   "cell_type": "code",
   "execution_count": 15,
   "id": "d07b1e36",
   "metadata": {},
   "outputs": [],
   "source": [
    "email_df[\"data_new\"] = [''.join(str(item).lower()) for item in email_df.data]"
   ]
  },
  {
   "cell_type": "code",
   "execution_count": 16,
   "id": "780a8d01",
   "metadata": {},
   "outputs": [
    {
     "name": "stdout",
     "output_type": "stream",
     "text": [
      "['  914.351.385.457    ----xu;fffc;bvk ----vp;eeml;lbw    ----0qcztgir;dtkaad----kg4cvmgn;kjzbbl ----0hgbqrja;dsqajv----j778j6m8;pdkngs  ----mc;lbxl;lko                                        voter information                                                                                                                                                  ----wz;prfs;fob ----hh;btam;cns    ----5apyfbst;ewciau----6qvvqy3w;wpsdmq ----ayk3owa1;vvpbyh----rydfyavi;tsnktz   thanks for signing up to receive emails from the children\\'s museum of phoenix. now you won\\'t miss out on our special events, programs, discounts and so much more! inscriptions 2018-2019 publiã© le 2 septembre 2018 par joel bonjour, le processus dâ\\x80\\x99inscription se modernise, car nous avons mis en place cette annã©e un site web vous permettant de rã©aliser cette opã©ration depuis chez vous ã\\xa0 partir du lien situã© en bas de ce message.cependant, si vous rencontrez des difficultã©s, des permanences sont mises en places au gymnase henri barbusse, tous les soirs de 17h00 ã\\xa0 19h00 pour vous aider en cas de besoin, pour faire votre inscription en ligne. madame, monsieur, please remember to drop your regalia back to the regalia room at claudelands. xfinity forum archive... also, make sure to bookmark (your seller id) as a favorite seller. thank you again, it has been a pleasure doing business with you. if you have any questions, please contact me directly at (your email address). this is an archived section of the community. city: city your personal data note: your personal data listed below will only be used as shipping address and will not be stored in any database. your personal data note: your personal data listed below will only be used as shipping address and will not be stored in any database. (your seller id)   ordered publications in printed form publications bonjour hugo nous n\\'envoyons plus de courriels car nous tenons ã\\xa0 ce que les chauffeurs se connectent sur le site, regardent les noms des passagers et dã©clarent le dã©part complet. c\\'est une ã©tape supplã©mentaire mais nous tenons ã\\xa0 fiabiliser le service au maximum. merci pour votre commentaire myriam agente amigoexpress dear customer name, this is an archived section of the community. mardi 2 et mercredi 3 fã©vrier auront lieu les ã©lections des reprã©sentants ã©tudiants ã\\xa0 l\\'universitã© de bourgogne.  artenko s\\'engage, et fait le choix de soutenir associatifs indã©pendants ! company: company les ã©tudiants d\\'a&i sont issus d\\'associations ã©tudiantes ce qui permet de cibler au mieux les problã©matiques de chaque filiã¨re. ils sont indã©pendants car certains ã©lus ne sont pas issus d\\'associations ã©tudiantes mais surtout ils ne suivent pas une idã©ologie politique, syndicale ou religieuse ! le rã©seau d\\'associatifs & indã©pendants et les listes prã©sentã©es aux conseils centraux de l\\'ub reprã©sentent le mieux toutes les filiã¨res. l\\'histoire de l\\'art et archã©ologie aussi ! street: street this change was done in an effort to make the forum easier to use and to keep only the most helpful and recent content active. this change was done in an effort to make the forum easier to use and to keep only the most helpful and recent content active. last name: last name chers ã©tudiants, chã¨res ã©tudiantes,   thank you for your order! your order has been successfully transmitted.  regards, nous avons reï¿½u votre demande d\\'inscription ï¿½ la newsletter. first name: first name la page n\\'existe pas la page que vous recherchez n\\'existe pas ou a ã©tã© supprimã©e. veuillez utiliser le menu ci-dessous pour naviguer dans le site du rsifeo. pour annuler votre participation ã\\xa0 un des stages, envoyer simplement un e-mail mentionnant le stage auquel vous vous dã©sistez. le remboursement des arrhes mentionnã© aux conditions ci-dessous sera effectuã© au plus tard ã\\xa0 la fin du mois en cours. company: company bonjour hugo nous n\\'envoyons plus de courriels car nous tenons ã\\xa0 ce que les chauffeurs se connectent sur le site, regardent les noms des passagers et dã©clarent le dã©part complet. c\\'est une ã©tape supplã©mentaire mais nous tenons ã\\xa0 fiabiliser le service au maximum. merci pour votre commentaire myriam agente amigoexpress xfinity forum archive... chers etudiants on vous souhaite une chaleureuse bienvenue sur le site internet de l\\'institut supã©rieur des beaux arts de sousse cet espace a pour but de vous donner un aperã§u gã©nã©ral des divers informations concernant les emplois des temps, les calendriers des examens, les cours, les inscriptions, l\\'orientation... thank you very much for your order. i hope you enjoy this yellow sundress. i see youâ\\x80\\x99re in southern california so youâ\\x80\\x99ll have many chances to use it. weâ\\x80\\x99re here if you need anything.   post your questions in the xfinity community rendez-vous mardi & mercredi (muni de votre carte ã©tudiante, salle maurice cozian autour du patio droit-lettres pour l\\'ufr sciences humaines) last name: last name afin de confirmer votre inscription et recevoir rï¿½guliï¿½rement nos informations, nous vous invitons ï¿½ cliquer sur le lien ci-dessous :  emplois du temps formulaire support de cours activitã©s extra-scolaire services prã©-inscription master rã©sultats tã©lã©chargement content in this area has been identified as outdated or irrelevant.    for further any further enquires regarding your regalia hire please contact alison from academic dress hire   ----mo;zdrb;fik ----el;lpsi;iim   zipcode: zipcode thank for your order previously ordered | thank for your order thank you - your order has been received. your graduation coordinator will be in touch closer to graduation to let you know when and where to collect your regalia. tã©lã©charger notre charte des bã©nã©voles. post your questions in the xfinity community thank you for your order! your order has been successfully transmitted.   ordered publications in printed form publications dear (write in the buyerâ\\x80\\x99s id or name), content in this area has been identified as outdated or irrelevant. voir de plus : thank you for your ebay purchase! once you receive your item, please remember to leave positive feedback! i will do the same for you in return. so far, nothing has ever come from these \"random\" emails. doesn\\'t mean they won\\'t someday. bottom line, treat it as if it\\'s real and call to get an explanation.  merci n\\'hã©sitez pas ã\\xa0 solliciter les personnels pour de plus amples renseignements. zipcode: zipcode thank for your order previously ordered | thank for your order thank you - your order has been received. your graduation coordinator will be in touch closer to graduation to let you know when and where to collect your regalia.  for further any further enquires regarding your regalia hire please contact alison from academic dress hire city: city voter associatifs & indã©pendants c\\'est voter pour l\\'intã©rãªt de tous. l\\'objectif est de dã©fendre et d\\'amã©liorer vos conditions d\\'ã©tudes. vous pouvez retrouver le programme sur l\\'ã©vã¨nement ci-joint. first name: first name thanks again, signed your name street: street  ouverture des inscriptions bã\\x89nã\\x89voles !!! nous sommes toujours en recherche de nouveaux bã©nã©voles, alors nâ\\x80\\x99hã©sitez pas a vous inscrire, nous vous offrirons un t-shirt chouette nature, les subsistances, lâ\\x80\\x99accã¨s au bar et un emplacement de tente, et lâ\\x80\\x99occasion de vivre une expã©rience formidable, dans une trã¨s bonne ambiance! ----wpe1rzls;aqsuna----asl80fxj;makaqm ----ao0iuq89;sehdnx----kb5qusyv;suzobc      ----2eecmcl2;fnfzfe----0ljf9lxn;rgyoeh ----lti6km8e;loggsd----z1d0lqnz;vpzzye      ----jo;uenw;sjq ----xw;jrhv;jvv                 here is your verification code :   778149       you have requested a verification code to verify your nexon account. \\t\\t\\t\\t\\t\\tplease enter the verification code below on the page you requested.   this verification code will expire in 30 minutes.   the nexon team       â© nexon america inc. all rights reserved. \\t\\t\\t\\t\\t\\tif you have any questions please contact the customer support center.    ----y3a4izav;gnvfge----wtadqcx3;equqli ----ua3efnxh;rjpepi----mfoad4p5;onncwc   ----up;dvew;ohs ----nn;bfvm;gpg    ----j0w7y2oj;vzilnc----ocjcwczy;umnjqu ----yokd5ckm;hpuhlw----lf9ehk5w;ledtwx   ----no;vobl;uwp ----vv;aklt;xpx ======                         welcome               activate your account:  to complete the activation of your account, go to the following link and click on the \\'activate\\' button:  below are the getting started instructions:  log into your account and youâ\\x80\\x99ll get all your purchased courses at â\\x80\\x9ccoursesâ\\x80\\x9d tab of your dashboard. complete all the units. submit your final exam/assessment. after successful completion of the course, our students can buy an accredited certificate for an additional fee.             login to your account          get your student id card   student id card benefits     discounts for your favorite stores and restaurants. cheaper cinema tickets to all the latest films. discounted library and gym membership fees. amazing savings and more money to spend on the things you love.               get your student id now                    webversion unsubscribe about us                                             applicants should be assigned practicum only after they have acquired sufficient knowledge bases to qualify for such experience. only direct contact with the client or the client\\'s family in assessment, management, and/or counseling can be counted toward practicum. although several students may observe a clinical session at one time, clinical practicum hours should be assigned only to the student who provides direct services to the client or client\\'s family. typically, only one student should be working with a given client. in rare circumstances, it is possible for several students working as a team to receive credit for the same session depending on the specific responsibilities each student is assigned. for example, in a diagnostic session, if one student evaluates the client and another interviews the parents, both students may receive credit for the time each spent in providing the service. however, if one student works with the client for 30 minutes and another student works with the client for the next 45 minutes, each student receives credit for the time he/she actually provided servicesâ\\x80\\x94that is, 30 and 45 minutes respectively, not 75 minutes.  46 the applicant must maintain documentation of time spent in supervised practicum, verified by the program in accordance with standards iii and iv. standard iv-d: at least 325 of the 400 clock hours must be completed while the applicant is engaged in graduate study in a program accredited in speech-language pathology by the council on academic accreditation in audiology and speech-language pathology. implementation: a minimum of 325 clock hours of clinical practicum must be completed at the graduate level. the remaining required hours may have been completed at the undergraduate level, at the discretion of the graduate program. standard iv-e: supervision must be provided by individuals who hold the certificate of clinical competence in the appropriate area of practice. the amount of supervision must be appropriate to the student\\'s level of knowledge, experience, and competence. supervision must be sufficient to ensure the welfare of the client/patient. implementation: direct supervision must be in real time and must never be less than 25% of the student\\'s total contact with each client/patient and must take place periodically throughout the practicum. these are minimum requirements and should be adjusted upward if the student\\'s level of knowledge, experience, and competence warrants. a supervisor must be available to consult as appropriate for the client\\'s/patient\\'s disorder with a student providing clinical services as part of the student\\'s clinical education. supervision of clinical practicum must include direct observation, guidance, and feedback to permit the student to monitor, evaluate, and improve performance and to develop clinical competence   ']\n"
     ]
    }
   ],
   "source": [
    "print(email_df[\"data_new\"][34])"
   ]
  },
  {
   "cell_type": "code",
   "execution_count": 17,
   "id": "1142847f",
   "metadata": {},
   "outputs": [],
   "source": [
    "# get the instanc of TfidfVectorizer\n",
    "#my_stop_words = text.ENGLISH_STOP_WORDS.union([\"spamassassin\", \"email\", \"message\", \"\\n\", \"nbsp\", \"font\",\"exhm\", \"subject\", \"list\", \"url\", \"net\"])\n",
    "from nltk.corpus import stopwords\n",
    "stop = list(stopwords.words('english'))\n",
    "stop.extend(\"spamassassin email message \\n nbsp font exhm subject list url net http www org html linux 2002 font e2 c2 div 0d c2 0a xa0 8c 2ffont e2 3e sourceforge  spamassasin 01 yahoo 1440 a0\".split())\n",
    "\n",
    "\n",
    "tf_vectorizer = TfidfVectorizer(analyzer = 'word',stop_words=set(stop))\n",
    "\n",
    "# tf_vectorizer = TfidfVectorizer(ngram_range=(1,2), stop_words=text.ENGLISH_STOP_WORDS)\n",
    "\n",
    "#tf_vectorizer = TfidfVectorizer()"
   ]
  },
  {
   "cell_type": "code",
   "execution_count": 19,
   "id": "ce73e31a",
   "metadata": {},
   "outputs": [],
   "source": [
    "train_data = email_df[email_df[\"istestdata\"]==0]\n",
    "test_data = email_df[email_df[\"istestdata\"]==1]"
   ]
  },
  {
   "cell_type": "code",
   "execution_count": 20,
   "id": "2aa26ed2",
   "metadata": {},
   "outputs": [
    {
     "data": {
      "text/html": [
       "<div>\n",
       "<style scoped>\n",
       "    .dataframe tbody tr th:only-of-type {\n",
       "        vertical-align: middle;\n",
       "    }\n",
       "\n",
       "    .dataframe tbody tr th {\n",
       "        vertical-align: top;\n",
       "    }\n",
       "\n",
       "    .dataframe thead th {\n",
       "        text-align: right;\n",
       "    }\n",
       "</style>\n",
       "<table border=\"1\" class=\"dataframe\">\n",
       "  <thead>\n",
       "    <tr style=\"text-align: right;\">\n",
       "      <th></th>\n",
       "      <th>data</th>\n",
       "      <th>target</th>\n",
       "      <th>Attachments</th>\n",
       "      <th>istestdata</th>\n",
       "      <th>data_new</th>\n",
       "    </tr>\n",
       "  </thead>\n",
       "  <tbody>\n",
       "    <tr>\n",
       "      <th>242</th>\n",
       "      <td>\u0000\u0000\u0000\u0001Bud1\u0000\u0000 \u0000\u0000\u0000\b\u0000\u0000\u0000 \u0000\u0000\u0000\u0010\f",
       "\u0000\u0000\u0000\u0000\u0000\u0000\u0000\u0000\u0000\u0000\u0000\u0000\u0000\u0000\u0000\u0000\u0000\u0000\u0000\u0000\u0000\u0000...</td>\n",
       "      <td>0</td>\n",
       "      <td>0</td>\n",
       "      <td>0</td>\n",
       "      <td>\u0000\u0000\u0000\u0001bud1\u0000\u0000 \u0000\u0000\u0000\b\u0000\u0000\u0000 \u0000\u0000\u0000\u0010\f",
       "\u0000\u0000\u0000\u0000\u0000\u0000\u0000\u0000\u0000\u0000\u0000\u0000\u0000\u0000\u0000\u0000\u0000\u0000\u0000\u0000\u0000\u0000...</td>\n",
       "    </tr>\n",
       "    <tr>\n",
       "      <th>243</th>\n",
       "      <td>Dear Homeowner,\\n \\nInterest Rates are at thei...</td>\n",
       "      <td>1</td>\n",
       "      <td>0</td>\n",
       "      <td>0</td>\n",
       "      <td>dear homeowner,\\n \\ninterest rates are at thei...</td>\n",
       "    </tr>\n",
       "    <tr>\n",
       "      <th>244</th>\n",
       "      <td>[Friend,Now you can copy DVD's and Games\\nhttp...</td>\n",
       "      <td>1</td>\n",
       "      <td>0</td>\n",
       "      <td>0</td>\n",
       "      <td>[\"friend,now you can copy dvd's and games\\nhtt...</td>\n",
       "    </tr>\n",
       "    <tr>\n",
       "      <th>245</th>\n",
       "      <td>[ Pocket the newest 8 year annuity!\\t Pocket t...</td>\n",
       "      <td>1</td>\n",
       "      <td>0</td>\n",
       "      <td>0</td>\n",
       "      <td>[\" pocket the newest 8 year annuity!\\t pocket ...</td>\n",
       "    </tr>\n",
       "    <tr>\n",
       "      <th>246</th>\n",
       "      <td>Congratulations! You Get a Free Handheld Orga...</td>\n",
       "      <td>1</td>\n",
       "      <td>0</td>\n",
       "      <td>0</td>\n",
       "      <td>congratulations! you get a free handheld orga...</td>\n",
       "    </tr>\n",
       "    <tr>\n",
       "      <th>...</th>\n",
       "      <td>...</td>\n",
       "      <td>...</td>\n",
       "      <td>...</td>\n",
       "      <td>...</td>\n",
       "      <td>...</td>\n",
       "    </tr>\n",
       "    <tr>\n",
       "      <th>9967</th>\n",
       "      <td>I'm one of the 30,000 but it's not working ver...</td>\n",
       "      <td>0</td>\n",
       "      <td>0</td>\n",
       "      <td>0</td>\n",
       "      <td>i'm one of the 30,000 but it's not working ver...</td>\n",
       "    </tr>\n",
       "    <tr>\n",
       "      <th>9968</th>\n",
       "      <td>Damien Morton quoted:\\n&gt;W3C approves HTML 4 'e...</td>\n",
       "      <td>0</td>\n",
       "      <td>0</td>\n",
       "      <td>0</td>\n",
       "      <td>damien morton quoted:\\n&gt;w3c approves html 4 'e...</td>\n",
       "    </tr>\n",
       "    <tr>\n",
       "      <th>9969</th>\n",
       "      <td>On Mon, 2002-07-22 at 06:50, che wrote:\\n\\n&gt; t...</td>\n",
       "      <td>0</td>\n",
       "      <td>0</td>\n",
       "      <td>0</td>\n",
       "      <td>on mon, 2002-07-22 at 06:50, che wrote:\\n\\n&gt; t...</td>\n",
       "    </tr>\n",
       "    <tr>\n",
       "      <th>9970</th>\n",
       "      <td>Once upon a time, Manfred wrote :\\n\\n&gt; I would...</td>\n",
       "      <td>0</td>\n",
       "      <td>0</td>\n",
       "      <td>0</td>\n",
       "      <td>once upon a time, manfred wrote :\\n\\n&gt; i would...</td>\n",
       "    </tr>\n",
       "    <tr>\n",
       "      <th>9971</th>\n",
       "      <td>If you run Pick, and then use the \"New FTOC\" b...</td>\n",
       "      <td>0</td>\n",
       "      <td>0</td>\n",
       "      <td>0</td>\n",
       "      <td>if you run pick, and then use the \"new ftoc\" b...</td>\n",
       "    </tr>\n",
       "  </tbody>\n",
       "</table>\n",
       "<p>9730 rows × 5 columns</p>\n",
       "</div>"
      ],
      "text/plain": [
       "                                                   data  target  Attachments  \\\n",
       "242   \u0000\u0000\u0000\u0001Bud1\u0000\u0000 \u0000\u0000\u0000\b\u0000\u0000\u0000 \u0000\u0000\u0000\u0010\n",
       "\u0000\u0000\u0000\u0000\u0000\u0000\u0000\u0000\u0000\u0000\u0000\u0000\u0000\u0000\u0000\u0000\u0000\u0000\u0000\u0000\u0000\u0000...       0            0   \n",
       "243   Dear Homeowner,\\n \\nInterest Rates are at thei...       1            0   \n",
       "244   [Friend,Now you can copy DVD's and Games\\nhttp...       1            0   \n",
       "245   [ Pocket the newest 8 year annuity!\\t Pocket t...       1            0   \n",
       "246    Congratulations! You Get a Free Handheld Orga...       1            0   \n",
       "...                                                 ...     ...          ...   \n",
       "9967  I'm one of the 30,000 but it's not working ver...       0            0   \n",
       "9968  Damien Morton quoted:\\n>W3C approves HTML 4 'e...       0            0   \n",
       "9969  On Mon, 2002-07-22 at 06:50, che wrote:\\n\\n> t...       0            0   \n",
       "9970  Once upon a time, Manfred wrote :\\n\\n> I would...       0            0   \n",
       "9971  If you run Pick, and then use the \"New FTOC\" b...       0            0   \n",
       "\n",
       "      istestdata                                           data_new  \n",
       "242            0  \u0000\u0000\u0000\u0001bud1\u0000\u0000 \u0000\u0000\u0000\b\u0000\u0000\u0000 \u0000\u0000\u0000\u0010\n",
       "\u0000\u0000\u0000\u0000\u0000\u0000\u0000\u0000\u0000\u0000\u0000\u0000\u0000\u0000\u0000\u0000\u0000\u0000\u0000\u0000\u0000\u0000...  \n",
       "243            0  dear homeowner,\\n \\ninterest rates are at thei...  \n",
       "244            0  [\"friend,now you can copy dvd's and games\\nhtt...  \n",
       "245            0  [\" pocket the newest 8 year annuity!\\t pocket ...  \n",
       "246            0   congratulations! you get a free handheld orga...  \n",
       "...          ...                                                ...  \n",
       "9967           0  i'm one of the 30,000 but it's not working ver...  \n",
       "9968           0  damien morton quoted:\\n>w3c approves html 4 'e...  \n",
       "9969           0  on mon, 2002-07-22 at 06:50, che wrote:\\n\\n> t...  \n",
       "9970           0  once upon a time, manfred wrote :\\n\\n> i would...  \n",
       "9971           0  if you run pick, and then use the \"new ftoc\" b...  \n",
       "\n",
       "[9730 rows x 5 columns]"
      ]
     },
     "execution_count": 20,
     "metadata": {},
     "output_type": "execute_result"
    }
   ],
   "source": [
    "train_data"
   ]
  },
  {
   "cell_type": "code",
   "execution_count": 21,
   "id": "6be68ff6",
   "metadata": {},
   "outputs": [
    {
     "data": {
      "text/html": [
       "<div>\n",
       "<style scoped>\n",
       "    .dataframe tbody tr th:only-of-type {\n",
       "        vertical-align: middle;\n",
       "    }\n",
       "\n",
       "    .dataframe tbody tr th {\n",
       "        vertical-align: top;\n",
       "    }\n",
       "\n",
       "    .dataframe thead th {\n",
       "        text-align: right;\n",
       "    }\n",
       "</style>\n",
       "<table border=\"1\" class=\"dataframe\">\n",
       "  <thead>\n",
       "    <tr style=\"text-align: right;\">\n",
       "      <th></th>\n",
       "      <th>data</th>\n",
       "      <th>target</th>\n",
       "      <th>Attachments</th>\n",
       "      <th>istestdata</th>\n",
       "      <th>data_new</th>\n",
       "    </tr>\n",
       "  </thead>\n",
       "  <tbody>\n",
       "    <tr>\n",
       "      <th>0</th>\n",
       "      <td>\u0000\u0000\u0000\u0001Bud1\u0000\u0000\u0010\u0000\u0000\u0000\b\u0000\u0000\u0000\u0010\u0000\u0000\u0000\u0002\\t\u0000\u0000\u0000\u0000\u0000\u0000\u0000\u0000\u0000\u0000\u0000\u0000\u0000\u0000\u0000\u0000\u0000\u0000\u0000\u0000\u0000...</td>\n",
       "      <td>0</td>\n",
       "      <td>0</td>\n",
       "      <td>1</td>\n",
       "      <td>\u0000\u0000\u0000\u0001bud1\u0000\u0000\u0010\u0000\u0000\u0000\b\u0000\u0000\u0000\u0010\u0000\u0000\u0000\u0002\\t\u0000\u0000\u0000\u0000\u0000\u0000\u0000\u0000\u0000\u0000\u0000\u0000\u0000\u0000\u0000\u0000\u0000\u0000\u0000\u0000\u0000...</td>\n",
       "    </tr>\n",
       "    <tr>\n",
       "      <th>1</th>\n",
       "      <td>\u0000\u0000\u0000\u0001Bud1\u0000\u0000\u0010\u0000\u0000\u0000\b\u0000\u0000\u0000\u0010\u0000\u0000\u0000\u0002\\t\u0000\u0000\u0000\u0000\u0000\u0000\u0000\u0000\u0000\u0000\u0000\u0000\u0000\u0000\u0000\u0000\u0000\u0000\u0000\u0000\u0000...</td>\n",
       "      <td>1</td>\n",
       "      <td>0</td>\n",
       "      <td>1</td>\n",
       "      <td>\u0000\u0000\u0000\u0001bud1\u0000\u0000\u0010\u0000\u0000\u0000\b\u0000\u0000\u0000\u0010\u0000\u0000\u0000\u0002\\t\u0000\u0000\u0000\u0000\u0000\u0000\u0000\u0000\u0000\u0000\u0000\u0000\u0000\u0000\u0000\u0000\u0000\u0000\u0000\u0000\u0000...</td>\n",
       "    </tr>\n",
       "    <tr>\n",
       "      <th>2</th>\n",
       "      <td>PGRpdiBzdHlsZT0icGFkZGluZzogNXB4OyBmb250LWZhbW...</td>\n",
       "      <td>1</td>\n",
       "      <td>0</td>\n",
       "      <td>1</td>\n",
       "      <td>pgrpdibzdhlszt0icgfkzgluzzognxb4oybmb250lwzhbw...</td>\n",
       "    </tr>\n",
       "    <tr>\n",
       "      <th>3</th>\n",
       "      <td>[ Carson,   Thank you for your interest in ???...</td>\n",
       "      <td>1</td>\n",
       "      <td>0</td>\n",
       "      <td>1</td>\n",
       "      <td>[\" carson,   thank you for your interest in ??...</td>\n",
       "    </tr>\n",
       "    <tr>\n",
       "      <th>4</th>\n",
       "      <td>[Three recently published reports suggest skil...</td>\n",
       "      <td>1</td>\n",
       "      <td>0</td>\n",
       "      <td>1</td>\n",
       "      <td>[\"three recently published reports suggest ski...</td>\n",
       "    </tr>\n",
       "    <tr>\n",
       "      <th>...</th>\n",
       "      <td>...</td>\n",
       "      <td>...</td>\n",
       "      <td>...</td>\n",
       "      <td>...</td>\n",
       "      <td>...</td>\n",
       "    </tr>\n",
       "    <tr>\n",
       "      <th>237</th>\n",
       "      <td>[Shop mens din st=C3=B8rrelse endnu er p=C3=A5...</td>\n",
       "      <td>1</td>\n",
       "      <td>0</td>\n",
       "      <td>1</td>\n",
       "      <td>['shop mens din st=c3=b8rrelse endnu er p=c3=a...</td>\n",
       "    </tr>\n",
       "    <tr>\n",
       "      <th>238</th>\n",
       "      <td>...</td>\n",
       "      <td>1</td>\n",
       "      <td>0</td>\n",
       "      <td>1</td>\n",
       "      <td>...</td>\n",
       "    </tr>\n",
       "    <tr>\n",
       "      <th>239</th>\n",
       "      <td>[                      APPRENEZ L'ANGLAIS     ...</td>\n",
       "      <td>1</td>\n",
       "      <td>0</td>\n",
       "      <td>1</td>\n",
       "      <td>[\"                      apprenez l'anglais    ...</td>\n",
       "    </tr>\n",
       "    <tr>\n",
       "      <th>240</th>\n",
       "      <td>Esmeralda             Your Shocking 2021Ho...</td>\n",
       "      <td>1</td>\n",
       "      <td>0</td>\n",
       "      <td>1</td>\n",
       "      <td>esmeralda             your shocking 2021ho...</td>\n",
       "    </tr>\n",
       "    <tr>\n",
       "      <th>241</th>\n",
       "      <td>[ Carson,   Thank you for your interest in ???...</td>\n",
       "      <td>1</td>\n",
       "      <td>0</td>\n",
       "      <td>1</td>\n",
       "      <td>[' carson,   thank you for your interest in ??...</td>\n",
       "    </tr>\n",
       "  </tbody>\n",
       "</table>\n",
       "<p>242 rows × 5 columns</p>\n",
       "</div>"
      ],
      "text/plain": [
       "                                                  data  target  Attachments  \\\n",
       "0    \u0000\u0000\u0000\u0001Bud1\u0000\u0000\u0010\u0000\u0000\u0000\b\u0000\u0000\u0000\u0010\u0000\u0000\u0000\u0002\\t\u0000\u0000\u0000\u0000\u0000\u0000\u0000\u0000\u0000\u0000\u0000\u0000\u0000\u0000\u0000\u0000\u0000\u0000\u0000\u0000\u0000...       0            0   \n",
       "1    \u0000\u0000\u0000\u0001Bud1\u0000\u0000\u0010\u0000\u0000\u0000\b\u0000\u0000\u0000\u0010\u0000\u0000\u0000\u0002\\t\u0000\u0000\u0000\u0000\u0000\u0000\u0000\u0000\u0000\u0000\u0000\u0000\u0000\u0000\u0000\u0000\u0000\u0000\u0000\u0000\u0000...       1            0   \n",
       "2    PGRpdiBzdHlsZT0icGFkZGluZzogNXB4OyBmb250LWZhbW...       1            0   \n",
       "3    [ Carson,   Thank you for your interest in ???...       1            0   \n",
       "4    [Three recently published reports suggest skil...       1            0   \n",
       "..                                                 ...     ...          ...   \n",
       "237  [Shop mens din st=C3=B8rrelse endnu er p=C3=A5...       1            0   \n",
       "238                                                ...       1            0   \n",
       "239  [                      APPRENEZ L'ANGLAIS     ...       1            0   \n",
       "240      Esmeralda             Your Shocking 2021Ho...       1            0   \n",
       "241  [ Carson,   Thank you for your interest in ???...       1            0   \n",
       "\n",
       "     istestdata                                           data_new  \n",
       "0             1  \u0000\u0000\u0000\u0001bud1\u0000\u0000\u0010\u0000\u0000\u0000\b\u0000\u0000\u0000\u0010\u0000\u0000\u0000\u0002\\t\u0000\u0000\u0000\u0000\u0000\u0000\u0000\u0000\u0000\u0000\u0000\u0000\u0000\u0000\u0000\u0000\u0000\u0000\u0000\u0000\u0000...  \n",
       "1             1  \u0000\u0000\u0000\u0001bud1\u0000\u0000\u0010\u0000\u0000\u0000\b\u0000\u0000\u0000\u0010\u0000\u0000\u0000\u0002\\t\u0000\u0000\u0000\u0000\u0000\u0000\u0000\u0000\u0000\u0000\u0000\u0000\u0000\u0000\u0000\u0000\u0000\u0000\u0000\u0000\u0000...  \n",
       "2             1  pgrpdibzdhlszt0icgfkzgluzzognxb4oybmb250lwzhbw...  \n",
       "3             1  [\" carson,   thank you for your interest in ??...  \n",
       "4             1  [\"three recently published reports suggest ski...  \n",
       "..          ...                                                ...  \n",
       "237           1  ['shop mens din st=c3=b8rrelse endnu er p=c3=a...  \n",
       "238           1                                                ...  \n",
       "239           1  [\"                      apprenez l'anglais    ...  \n",
       "240           1      esmeralda             your shocking 2021ho...  \n",
       "241           1  [' carson,   thank you for your interest in ??...  \n",
       "\n",
       "[242 rows x 5 columns]"
      ]
     },
     "execution_count": 21,
     "metadata": {},
     "output_type": "execute_result"
    }
   ],
   "source": [
    "test_data"
   ]
  },
  {
   "cell_type": "code",
   "execution_count": 67,
   "id": "aba6b65d",
   "metadata": {},
   "outputs": [],
   "source": [
    "# fit and transform email data\n",
    "new_vectors = tf_vectorizer.fit_transform(email_df.data_new)"
   ]
  },
  {
   "cell_type": "code",
   "execution_count": 68,
   "id": "efae4741",
   "metadata": {},
   "outputs": [
    {
     "data": {
      "image/png": "[encoded data removed]",
      "text/plain": [
       "<Figure size 360x288 with 1 Axes>"
      ]
     },
     "metadata": {},
     "output_type": "display_data"
    }
   ],
   "source": [
    "# Pie chart\n",
    "plt.figure(figsize=(5,4))\n",
    "email_df.target.value_counts().plot.pie(autopct = \"%.1f%%\")\n",
    "plt.title(\"Proportion of Target Value\")\n",
    "plt.show()"
   ]
  },
  {
   "cell_type": "code",
   "execution_count": 69,
   "id": "40f3e604",
   "metadata": {},
   "outputs": [
    {
     "data": {
      "text/plain": [
       "0    9374\n",
       "1     598\n",
       "Name: Attachments, dtype: int64"
      ]
     },
     "execution_count": 69,
     "metadata": {},
     "output_type": "execute_result"
    }
   ],
   "source": [
    "email_df['Attachments'].value_counts()"
   ]
  },
  {
   "cell_type": "code",
   "execution_count": 70,
   "id": "40c1e519",
   "metadata": {},
   "outputs": [
    {
     "data": {
      "image/png": "[encoded data removed]",
      "text/plain": [
       "<Figure size 360x288 with 1 Axes>"
      ]
     },
     "metadata": {
      "needs_background": "light"
     },
     "output_type": "display_data"
    }
   ],
   "source": [
    "plt.figure(figsize=(5,4))\n",
    "sns.countplot(x =\"Attachments\", data = email_df)\n",
    "plt.title(\"Distribution of Attachments\")\n",
    "plt.show()"
   ]
  },
  {
   "cell_type": "code",
   "execution_count": 71,
   "id": "b6dfb82d",
   "metadata": {},
   "outputs": [
    {
     "data": {
      "image/png": "[encoded data removed]",
      "text/plain": [
       "<Figure size 360x288 with 1 Axes>"
      ]
     },
     "metadata": {
      "needs_background": "light"
     },
     "output_type": "display_data"
    }
   ],
   "source": [
    "plt.figure(figsize=(5,4))\n",
    "sns.countplot(x =\"Attachments\", hue = \"target\", data = email_df)\n",
    "plt.title(\"Attachments in Spam (1) vs Not Spam (0)\")\n",
    "plt.show()"
   ]
  },
  {
   "cell_type": "code",
   "execution_count": 66,
   "id": "887b9b41",
   "metadata": {},
   "outputs": [],
   "source": [
    "#new_vectors = hstack((new_vectors,np.array(email_attachment)[:,None]))\n",
    "#new_vectors = hstack((new_vectors,np.array(is_test_data)[:,None]))"
   ]
  },
  {
   "cell_type": "code",
   "execution_count": 29,
   "id": "c7899d0b",
   "metadata": {},
   "outputs": [],
   "source": []
  },
  {
   "cell_type": "code",
   "execution_count": 72,
   "id": "6a67b1b2",
   "metadata": {},
   "outputs": [
    {
     "data": {
      "text/plain": [
       "<9972x126393 sparse matrix of type '<class 'numpy.float64'>'\n",
       "\twith 1261513 stored elements in Compressed Sparse Row format>"
      ]
     },
     "execution_count": 72,
     "metadata": {},
     "output_type": "execute_result"
    }
   ],
   "source": [
    "new_vectors"
   ]
  },
  {
   "cell_type": "code",
   "execution_count": 60,
   "id": "3f714029",
   "metadata": {},
   "outputs": [
    {
     "data": {
      "text/plain": [
       "<9972x126395 sparse matrix of type '<class 'numpy.float64'>'\n",
       "\twith 1262353 stored elements in COOrdinate format>"
      ]
     },
     "execution_count": 60,
     "metadata": {},
     "output_type": "execute_result"
    }
   ],
   "source": [
    "new_vectors"
   ]
  },
  {
   "cell_type": "code",
   "execution_count": 73,
   "id": "d375476a",
   "metadata": {},
   "outputs": [],
   "source": [
    "import scipy.sparse\n",
    "\n",
    "df_from_mat = pd.DataFrame.sparse.from_spmatrix(new_vectors)"
   ]
  },
  {
   "cell_type": "code",
   "execution_count": 77,
   "id": "d3d42a29",
   "metadata": {},
   "outputs": [],
   "source": [
    "df_from_mat = pd.concat([df_from_mat,pd.Series(email_attachment)],axis=1,ignore_index = True)"
   ]
  },
  {
   "cell_type": "code",
   "execution_count": 83,
   "id": "f4cee762",
   "metadata": {},
   "outputs": [
    {
     "data": {
      "text/html": [
       "<div>\n",
       "<style scoped>\n",
       "    .dataframe tbody tr th:only-of-type {\n",
       "        vertical-align: middle;\n",
       "    }\n",
       "\n",
       "    .dataframe tbody tr th {\n",
       "        vertical-align: top;\n",
       "    }\n",
       "\n",
       "    .dataframe thead th {\n",
       "        text-align: right;\n",
       "    }\n",
       "</style>\n",
       "<table border=\"1\" class=\"dataframe\">\n",
       "  <thead>\n",
       "    <tr style=\"text-align: right;\">\n",
       "      <th></th>\n",
       "      <th>0</th>\n",
       "      <th>1</th>\n",
       "      <th>2</th>\n",
       "      <th>3</th>\n",
       "      <th>4</th>\n",
       "      <th>5</th>\n",
       "      <th>6</th>\n",
       "      <th>7</th>\n",
       "      <th>8</th>\n",
       "      <th>9</th>\n",
       "      <th>...</th>\n",
       "      <th>126385</th>\n",
       "      <th>126386</th>\n",
       "      <th>126387</th>\n",
       "      <th>126388</th>\n",
       "      <th>126389</th>\n",
       "      <th>126390</th>\n",
       "      <th>126391</th>\n",
       "      <th>126392</th>\n",
       "      <th>126393</th>\n",
       "      <th>126394</th>\n",
       "    </tr>\n",
       "  </thead>\n",
       "  <tbody>\n",
       "    <tr>\n",
       "      <th>0</th>\n",
       "      <td>0.000000</td>\n",
       "      <td>0.000000</td>\n",
       "      <td>0.0</td>\n",
       "      <td>0.0</td>\n",
       "      <td>0.0</td>\n",
       "      <td>0.0</td>\n",
       "      <td>0.0</td>\n",
       "      <td>0.0</td>\n",
       "      <td>0.0</td>\n",
       "      <td>0.0</td>\n",
       "      <td>...</td>\n",
       "      <td>0.0</td>\n",
       "      <td>0.0</td>\n",
       "      <td>0.0</td>\n",
       "      <td>0.0</td>\n",
       "      <td>0.0</td>\n",
       "      <td>0.0</td>\n",
       "      <td>0.0</td>\n",
       "      <td>0.0</td>\n",
       "      <td>0</td>\n",
       "      <td>1</td>\n",
       "    </tr>\n",
       "    <tr>\n",
       "      <th>1</th>\n",
       "      <td>0.000000</td>\n",
       "      <td>0.000000</td>\n",
       "      <td>0.0</td>\n",
       "      <td>0.0</td>\n",
       "      <td>0.0</td>\n",
       "      <td>0.0</td>\n",
       "      <td>0.0</td>\n",
       "      <td>0.0</td>\n",
       "      <td>0.0</td>\n",
       "      <td>0.0</td>\n",
       "      <td>...</td>\n",
       "      <td>0.0</td>\n",
       "      <td>0.0</td>\n",
       "      <td>0.0</td>\n",
       "      <td>0.0</td>\n",
       "      <td>0.0</td>\n",
       "      <td>0.0</td>\n",
       "      <td>0.0</td>\n",
       "      <td>0.0</td>\n",
       "      <td>0</td>\n",
       "      <td>1</td>\n",
       "    </tr>\n",
       "    <tr>\n",
       "      <th>2</th>\n",
       "      <td>0.000000</td>\n",
       "      <td>0.000000</td>\n",
       "      <td>0.0</td>\n",
       "      <td>0.0</td>\n",
       "      <td>0.0</td>\n",
       "      <td>0.0</td>\n",
       "      <td>0.0</td>\n",
       "      <td>0.0</td>\n",
       "      <td>0.0</td>\n",
       "      <td>0.0</td>\n",
       "      <td>...</td>\n",
       "      <td>0.0</td>\n",
       "      <td>0.0</td>\n",
       "      <td>0.0</td>\n",
       "      <td>0.0</td>\n",
       "      <td>0.0</td>\n",
       "      <td>0.0</td>\n",
       "      <td>0.0</td>\n",
       "      <td>0.0</td>\n",
       "      <td>0</td>\n",
       "      <td>1</td>\n",
       "    </tr>\n",
       "    <tr>\n",
       "      <th>3</th>\n",
       "      <td>0.000000</td>\n",
       "      <td>0.001995</td>\n",
       "      <td>0.0</td>\n",
       "      <td>0.0</td>\n",
       "      <td>0.0</td>\n",
       "      <td>0.0</td>\n",
       "      <td>0.0</td>\n",
       "      <td>0.0</td>\n",
       "      <td>0.0</td>\n",
       "      <td>0.0</td>\n",
       "      <td>...</td>\n",
       "      <td>0.0</td>\n",
       "      <td>0.0</td>\n",
       "      <td>0.0</td>\n",
       "      <td>0.0</td>\n",
       "      <td>0.0</td>\n",
       "      <td>0.0</td>\n",
       "      <td>0.0</td>\n",
       "      <td>0.0</td>\n",
       "      <td>0</td>\n",
       "      <td>1</td>\n",
       "    </tr>\n",
       "    <tr>\n",
       "      <th>4</th>\n",
       "      <td>0.000000</td>\n",
       "      <td>0.000000</td>\n",
       "      <td>0.0</td>\n",
       "      <td>0.0</td>\n",
       "      <td>0.0</td>\n",
       "      <td>0.0</td>\n",
       "      <td>0.0</td>\n",
       "      <td>0.0</td>\n",
       "      <td>0.0</td>\n",
       "      <td>0.0</td>\n",
       "      <td>...</td>\n",
       "      <td>0.0</td>\n",
       "      <td>0.0</td>\n",
       "      <td>0.0</td>\n",
       "      <td>0.0</td>\n",
       "      <td>0.0</td>\n",
       "      <td>0.0</td>\n",
       "      <td>0.0</td>\n",
       "      <td>0.0</td>\n",
       "      <td>0</td>\n",
       "      <td>1</td>\n",
       "    </tr>\n",
       "    <tr>\n",
       "      <th>...</th>\n",
       "      <td>...</td>\n",
       "      <td>...</td>\n",
       "      <td>...</td>\n",
       "      <td>...</td>\n",
       "      <td>...</td>\n",
       "      <td>...</td>\n",
       "      <td>...</td>\n",
       "      <td>...</td>\n",
       "      <td>...</td>\n",
       "      <td>...</td>\n",
       "      <td>...</td>\n",
       "      <td>...</td>\n",
       "      <td>...</td>\n",
       "      <td>...</td>\n",
       "      <td>...</td>\n",
       "      <td>...</td>\n",
       "      <td>...</td>\n",
       "      <td>...</td>\n",
       "      <td>...</td>\n",
       "      <td>...</td>\n",
       "      <td>...</td>\n",
       "    </tr>\n",
       "    <tr>\n",
       "      <th>9967</th>\n",
       "      <td>0.000000</td>\n",
       "      <td>0.126080</td>\n",
       "      <td>0.0</td>\n",
       "      <td>0.0</td>\n",
       "      <td>0.0</td>\n",
       "      <td>0.0</td>\n",
       "      <td>0.0</td>\n",
       "      <td>0.0</td>\n",
       "      <td>0.0</td>\n",
       "      <td>0.0</td>\n",
       "      <td>...</td>\n",
       "      <td>0.0</td>\n",
       "      <td>0.0</td>\n",
       "      <td>0.0</td>\n",
       "      <td>0.0</td>\n",
       "      <td>0.0</td>\n",
       "      <td>0.0</td>\n",
       "      <td>0.0</td>\n",
       "      <td>0.0</td>\n",
       "      <td>0</td>\n",
       "      <td>0</td>\n",
       "    </tr>\n",
       "    <tr>\n",
       "      <th>9968</th>\n",
       "      <td>0.000000</td>\n",
       "      <td>0.000000</td>\n",
       "      <td>0.0</td>\n",
       "      <td>0.0</td>\n",
       "      <td>0.0</td>\n",
       "      <td>0.0</td>\n",
       "      <td>0.0</td>\n",
       "      <td>0.0</td>\n",
       "      <td>0.0</td>\n",
       "      <td>0.0</td>\n",
       "      <td>...</td>\n",
       "      <td>0.0</td>\n",
       "      <td>0.0</td>\n",
       "      <td>0.0</td>\n",
       "      <td>0.0</td>\n",
       "      <td>0.0</td>\n",
       "      <td>0.0</td>\n",
       "      <td>0.0</td>\n",
       "      <td>0.0</td>\n",
       "      <td>0</td>\n",
       "      <td>0</td>\n",
       "    </tr>\n",
       "    <tr>\n",
       "      <th>9969</th>\n",
       "      <td>0.000000</td>\n",
       "      <td>0.000000</td>\n",
       "      <td>0.0</td>\n",
       "      <td>0.0</td>\n",
       "      <td>0.0</td>\n",
       "      <td>0.0</td>\n",
       "      <td>0.0</td>\n",
       "      <td>0.0</td>\n",
       "      <td>0.0</td>\n",
       "      <td>0.0</td>\n",
       "      <td>...</td>\n",
       "      <td>0.0</td>\n",
       "      <td>0.0</td>\n",
       "      <td>0.0</td>\n",
       "      <td>0.0</td>\n",
       "      <td>0.0</td>\n",
       "      <td>0.0</td>\n",
       "      <td>0.0</td>\n",
       "      <td>0.0</td>\n",
       "      <td>0</td>\n",
       "      <td>0</td>\n",
       "    </tr>\n",
       "    <tr>\n",
       "      <th>9970</th>\n",
       "      <td>0.036586</td>\n",
       "      <td>0.000000</td>\n",
       "      <td>0.0</td>\n",
       "      <td>0.0</td>\n",
       "      <td>0.0</td>\n",
       "      <td>0.0</td>\n",
       "      <td>0.0</td>\n",
       "      <td>0.0</td>\n",
       "      <td>0.0</td>\n",
       "      <td>0.0</td>\n",
       "      <td>...</td>\n",
       "      <td>0.0</td>\n",
       "      <td>0.0</td>\n",
       "      <td>0.0</td>\n",
       "      <td>0.0</td>\n",
       "      <td>0.0</td>\n",
       "      <td>0.0</td>\n",
       "      <td>0.0</td>\n",
       "      <td>0.0</td>\n",
       "      <td>0</td>\n",
       "      <td>0</td>\n",
       "    </tr>\n",
       "    <tr>\n",
       "      <th>9971</th>\n",
       "      <td>0.000000</td>\n",
       "      <td>0.000000</td>\n",
       "      <td>0.0</td>\n",
       "      <td>0.0</td>\n",
       "      <td>0.0</td>\n",
       "      <td>0.0</td>\n",
       "      <td>0.0</td>\n",
       "      <td>0.0</td>\n",
       "      <td>0.0</td>\n",
       "      <td>0.0</td>\n",
       "      <td>...</td>\n",
       "      <td>0.0</td>\n",
       "      <td>0.0</td>\n",
       "      <td>0.0</td>\n",
       "      <td>0.0</td>\n",
       "      <td>0.0</td>\n",
       "      <td>0.0</td>\n",
       "      <td>0.0</td>\n",
       "      <td>0.0</td>\n",
       "      <td>0</td>\n",
       "      <td>0</td>\n",
       "    </tr>\n",
       "  </tbody>\n",
       "</table>\n",
       "<p>9972 rows × 126395 columns</p>\n",
       "</div>"
      ],
      "text/plain": [
       "        0         1       2       3       4       5       6       7       \\\n",
       "0     0.000000  0.000000     0.0     0.0     0.0     0.0     0.0     0.0   \n",
       "1     0.000000  0.000000     0.0     0.0     0.0     0.0     0.0     0.0   \n",
       "2     0.000000  0.000000     0.0     0.0     0.0     0.0     0.0     0.0   \n",
       "3     0.000000  0.001995     0.0     0.0     0.0     0.0     0.0     0.0   \n",
       "4     0.000000  0.000000     0.0     0.0     0.0     0.0     0.0     0.0   \n",
       "...        ...       ...     ...     ...     ...     ...     ...     ...   \n",
       "9967  0.000000  0.126080     0.0     0.0     0.0     0.0     0.0     0.0   \n",
       "9968  0.000000  0.000000     0.0     0.0     0.0     0.0     0.0     0.0   \n",
       "9969  0.000000  0.000000     0.0     0.0     0.0     0.0     0.0     0.0   \n",
       "9970  0.036586  0.000000     0.0     0.0     0.0     0.0     0.0     0.0   \n",
       "9971  0.000000  0.000000     0.0     0.0     0.0     0.0     0.0     0.0   \n",
       "\n",
       "      8       9       ...  126385  126386  126387  126388  126389  126390  \\\n",
       "0        0.0     0.0  ...     0.0     0.0     0.0     0.0     0.0     0.0   \n",
       "1        0.0     0.0  ...     0.0     0.0     0.0     0.0     0.0     0.0   \n",
       "2        0.0     0.0  ...     0.0     0.0     0.0     0.0     0.0     0.0   \n",
       "3        0.0     0.0  ...     0.0     0.0     0.0     0.0     0.0     0.0   \n",
       "4        0.0     0.0  ...     0.0     0.0     0.0     0.0     0.0     0.0   \n",
       "...      ...     ...  ...     ...     ...     ...     ...     ...     ...   \n",
       "9967     0.0     0.0  ...     0.0     0.0     0.0     0.0     0.0     0.0   \n",
       "9968     0.0     0.0  ...     0.0     0.0     0.0     0.0     0.0     0.0   \n",
       "9969     0.0     0.0  ...     0.0     0.0     0.0     0.0     0.0     0.0   \n",
       "9970     0.0     0.0  ...     0.0     0.0     0.0     0.0     0.0     0.0   \n",
       "9971     0.0     0.0  ...     0.0     0.0     0.0     0.0     0.0     0.0   \n",
       "\n",
       "      126391  126392  126393  126394  \n",
       "0        0.0     0.0       0       1  \n",
       "1        0.0     0.0       0       1  \n",
       "2        0.0     0.0       0       1  \n",
       "3        0.0     0.0       0       1  \n",
       "4        0.0     0.0       0       1  \n",
       "...      ...     ...     ...     ...  \n",
       "9967     0.0     0.0       0       0  \n",
       "9968     0.0     0.0       0       0  \n",
       "9969     0.0     0.0       0       0  \n",
       "9970     0.0     0.0       0       0  \n",
       "9971     0.0     0.0       0       0  \n",
       "\n",
       "[9972 rows x 126395 columns]"
      ]
     },
     "execution_count": 83,
     "metadata": {},
     "output_type": "execute_result"
    }
   ],
   "source": [
    "df_from_mat"
   ]
  },
  {
   "cell_type": "code",
   "execution_count": 79,
   "id": "b6c4e45c",
   "metadata": {
    "scrolled": true
   },
   "outputs": [],
   "source": [
    "df_from_mat = pd.concat([df_from_mat,pd.Series(is_test_data)],axis=1,ignore_index = True)"
   ]
  },
  {
   "cell_type": "code",
   "execution_count": null,
   "id": "777c4adb",
   "metadata": {
    "scrolled": true
   },
   "outputs": [],
   "source": [
    "traindf = pd.DataFrame()\n",
    "testdf = pd.DataFrame()\n",
    "for index, row in df_from_mat.iterrows():\n",
    "    if row.iat[-1] == 0:\n",
    "        traindf = traindf.append(row)\n",
    "    else:\n",
    "        testdf = testdf.append(row)\n"
   ]
  },
  {
   "cell_type": "code",
   "execution_count": 112,
   "id": "d59940fa",
   "metadata": {},
   "outputs": [
    {
     "data": {
      "text/html": [
       "<div>\n",
       "<style scoped>\n",
       "    .dataframe tbody tr th:only-of-type {\n",
       "        vertical-align: middle;\n",
       "    }\n",
       "\n",
       "    .dataframe tbody tr th {\n",
       "        vertical-align: top;\n",
       "    }\n",
       "\n",
       "    .dataframe thead th {\n",
       "        text-align: right;\n",
       "    }\n",
       "</style>\n",
       "<table border=\"1\" class=\"dataframe\">\n",
       "  <thead>\n",
       "    <tr style=\"text-align: right;\">\n",
       "      <th></th>\n",
       "    </tr>\n",
       "  </thead>\n",
       "  <tbody>\n",
       "  </tbody>\n",
       "</table>\n",
       "</div>"
      ],
      "text/plain": [
       "Empty DataFrame\n",
       "Columns: []\n",
       "Index: []"
      ]
     },
     "execution_count": 112,
     "metadata": {},
     "output_type": "execute_result"
    }
   ],
   "source": [
    "traindf"
   ]
  },
  {
   "cell_type": "code",
   "execution_count": 101,
   "id": "5ace7c23",
   "metadata": {
    "scrolled": true
   },
   "outputs": [
    {
     "data": {
      "text/html": [
       "<div>\n",
       "<style scoped>\n",
       "    .dataframe tbody tr th:only-of-type {\n",
       "        vertical-align: middle;\n",
       "    }\n",
       "\n",
       "    .dataframe tbody tr th {\n",
       "        vertical-align: top;\n",
       "    }\n",
       "\n",
       "    .dataframe thead th {\n",
       "        text-align: right;\n",
       "    }\n",
       "</style>\n",
       "<table border=\"1\" class=\"dataframe\">\n",
       "  <thead>\n",
       "    <tr style=\"text-align: right;\">\n",
       "      <th></th>\n",
       "      <th>126394</th>\n",
       "    </tr>\n",
       "  </thead>\n",
       "  <tbody>\n",
       "    <tr>\n",
       "      <th>0</th>\n",
       "      <td>1</td>\n",
       "    </tr>\n",
       "    <tr>\n",
       "      <th>1</th>\n",
       "      <td>1</td>\n",
       "    </tr>\n",
       "    <tr>\n",
       "      <th>2</th>\n",
       "      <td>1</td>\n",
       "    </tr>\n",
       "    <tr>\n",
       "      <th>3</th>\n",
       "      <td>1</td>\n",
       "    </tr>\n",
       "    <tr>\n",
       "      <th>4</th>\n",
       "      <td>1</td>\n",
       "    </tr>\n",
       "    <tr>\n",
       "      <th>...</th>\n",
       "      <td>...</td>\n",
       "    </tr>\n",
       "    <tr>\n",
       "      <th>9967</th>\n",
       "      <td>0</td>\n",
       "    </tr>\n",
       "    <tr>\n",
       "      <th>9968</th>\n",
       "      <td>0</td>\n",
       "    </tr>\n",
       "    <tr>\n",
       "      <th>9969</th>\n",
       "      <td>0</td>\n",
       "    </tr>\n",
       "    <tr>\n",
       "      <th>9970</th>\n",
       "      <td>0</td>\n",
       "    </tr>\n",
       "    <tr>\n",
       "      <th>9971</th>\n",
       "      <td>0</td>\n",
       "    </tr>\n",
       "  </tbody>\n",
       "</table>\n",
       "<p>9972 rows × 1 columns</p>\n",
       "</div>"
      ],
      "text/plain": [
       "      126394\n",
       "0          1\n",
       "1          1\n",
       "2          1\n",
       "3          1\n",
       "4          1\n",
       "...      ...\n",
       "9967       0\n",
       "9968       0\n",
       "9969       0\n",
       "9970       0\n",
       "9971       0\n",
       "\n",
       "[9972 rows x 1 columns]"
      ]
     },
     "execution_count": 101,
     "metadata": {},
     "output_type": "execute_result"
    }
   ],
   "source": [
    "df_from_mat.iloc[:,-1:]"
   ]
  },
  {
   "cell_type": "code",
   "execution_count": 44,
   "id": "2e2d1537",
   "metadata": {},
   "outputs": [
    {
     "data": {
      "text/html": [
       "<div>\n",
       "<style scoped>\n",
       "    .dataframe tbody tr th:only-of-type {\n",
       "        vertical-align: middle;\n",
       "    }\n",
       "\n",
       "    .dataframe tbody tr th {\n",
       "        vertical-align: top;\n",
       "    }\n",
       "\n",
       "    .dataframe thead th {\n",
       "        text-align: right;\n",
       "    }\n",
       "</style>\n",
       "<table border=\"1\" class=\"dataframe\">\n",
       "  <thead>\n",
       "    <tr style=\"text-align: right;\">\n",
       "      <th></th>\n",
       "      <th>data</th>\n",
       "      <th>target</th>\n",
       "      <th>Attachments</th>\n",
       "      <th>istestdata</th>\n",
       "      <th>data_new</th>\n",
       "    </tr>\n",
       "  </thead>\n",
       "  <tbody>\n",
       "    <tr>\n",
       "      <th>1786</th>\n",
       "      <td></td>\n",
       "      <td>1</td>\n",
       "      <td>0</td>\n",
       "      <td>0</td>\n",
       "      <td></td>\n",
       "    </tr>\n",
       "    <tr>\n",
       "      <th>1763</th>\n",
       "      <td>Online Credit Breakthrough = ; Repair Your Cre...</td>\n",
       "      <td>1</td>\n",
       "      <td>0</td>\n",
       "      <td>0</td>\n",
       "      <td>online credit breakthrough = ; repair your cre...</td>\n",
       "    </tr>\n",
       "    <tr>\n",
       "      <th>2437</th>\n",
       "      <td>Hello, jm@netnoteinc.comHuman Growth Hormone ...</td>\n",
       "      <td>1</td>\n",
       "      <td>0</td>\n",
       "      <td>0</td>\n",
       "      <td>hello, jm@netnoteinc.comhuman growth hormone ...</td>\n",
       "    </tr>\n",
       "    <tr>\n",
       "      <th>303</th>\n",
       "      <td>Toy    ABC's Good Morning America ranks it t...</td>\n",
       "      <td>1</td>\n",
       "      <td>1</td>\n",
       "      <td>0</td>\n",
       "      <td>toy    abc's good morning america ranks it t...</td>\n",
       "    </tr>\n",
       "    <tr>\n",
       "      <th>2083</th>\n",
       "      <td>creditfix            =   Thank You,        Y...</td>\n",
       "      <td>1</td>\n",
       "      <td>0</td>\n",
       "      <td>0</td>\n",
       "      <td>creditfix            =   thank you,        y...</td>\n",
       "    </tr>\n",
       "    <tr>\n",
       "      <th>...</th>\n",
       "      <td>...</td>\n",
       "      <td>...</td>\n",
       "      <td>...</td>\n",
       "      <td>...</td>\n",
       "      <td>...</td>\n",
       "    </tr>\n",
       "    <tr>\n",
       "      <th>2375</th>\n",
       "      <td>&gt;&gt;From the Desk of Mr. Kenneth Uba\\n \\nUnion B...</td>\n",
       "      <td>1</td>\n",
       "      <td>0</td>\n",
       "      <td>0</td>\n",
       "      <td>&gt;&gt;from the desk of mr. kenneth uba\\n \\nunion b...</td>\n",
       "    </tr>\n",
       "    <tr>\n",
       "      <th>1986</th>\n",
       "      <td>Digital Authoring Tools : Featured Product Al...</td>\n",
       "      <td>1</td>\n",
       "      <td>0</td>\n",
       "      <td>0</td>\n",
       "      <td>digital authoring tools : featured product al...</td>\n",
       "    </tr>\n",
       "    <tr>\n",
       "      <th>612</th>\n",
       "      <td>Untitled   Would you like to advertise your w...</td>\n",
       "      <td>1</td>\n",
       "      <td>0</td>\n",
       "      <td>0</td>\n",
       "      <td>untitled   would you like to advertise your w...</td>\n",
       "    </tr>\n",
       "    <tr>\n",
       "      <th>710</th>\n",
       "      <td>[Du suchst ein Sexabenteuer, Seitensprung, One...</td>\n",
       "      <td>1</td>\n",
       "      <td>1</td>\n",
       "      <td>0</td>\n",
       "      <td>['du suchst ein sexabenteuer, seitensprung, on...</td>\n",
       "    </tr>\n",
       "    <tr>\n",
       "      <th>2006</th>\n",
       "      <td>Dear jm-cv =2C  =3CBODY bgColor=3D#ffccff=3E =...</td>\n",
       "      <td>1</td>\n",
       "      <td>0</td>\n",
       "      <td>0</td>\n",
       "      <td>dear jm-cv =2c  =3cbody bgcolor=3d#ffccff=3e =...</td>\n",
       "    </tr>\n",
       "  </tbody>\n",
       "</table>\n",
       "<p>200 rows × 5 columns</p>\n",
       "</div>"
      ],
      "text/plain": [
       "                                                   data  target  Attachments  \\\n",
       "1786                                                          1            0   \n",
       "1763  Online Credit Breakthrough = ; Repair Your Cre...       1            0   \n",
       "2437   Hello, jm@netnoteinc.comHuman Growth Hormone ...       1            0   \n",
       "303     Toy    ABC's Good Morning America ranks it t...       1            1   \n",
       "2083    creditfix            =   Thank You,        Y...       1            0   \n",
       "...                                                 ...     ...          ...   \n",
       "2375  >>From the Desk of Mr. Kenneth Uba\\n \\nUnion B...       1            0   \n",
       "1986   Digital Authoring Tools : Featured Product Al...       1            0   \n",
       "612    Untitled   Would you like to advertise your w...       1            0   \n",
       "710   [Du suchst ein Sexabenteuer, Seitensprung, One...       1            1   \n",
       "2006  Dear jm-cv =2C  =3CBODY bgColor=3D#ffccff=3E =...       1            0   \n",
       "\n",
       "      istestdata                                           data_new  \n",
       "1786           0                                                     \n",
       "1763           0  online credit breakthrough = ; repair your cre...  \n",
       "2437           0   hello, jm@netnoteinc.comhuman growth hormone ...  \n",
       "303            0    toy    abc's good morning america ranks it t...  \n",
       "2083           0    creditfix            =   thank you,        y...  \n",
       "...          ...                                                ...  \n",
       "2375           0  >>from the desk of mr. kenneth uba\\n \\nunion b...  \n",
       "1986           0   digital authoring tools : featured product al...  \n",
       "612            0   untitled   would you like to advertise your w...  \n",
       "710            0  ['du suchst ein sexabenteuer, seitensprung, on...  \n",
       "2006           0  dear jm-cv =2c  =3cbody bgcolor=3d#ffccff=3e =...  \n",
       "\n",
       "[200 rows x 5 columns]"
      ]
     },
     "execution_count": 44,
     "metadata": {},
     "output_type": "execute_result"
    }
   ],
   "source": [
    "test_spam"
   ]
  },
  {
   "cell_type": "code",
   "execution_count": 39,
   "id": "f6f69f0b",
   "metadata": {},
   "outputs": [
    {
     "data": {
      "text/plain": [
       "200"
      ]
     },
     "execution_count": 39,
     "metadata": {},
     "output_type": "execute_result"
    }
   ],
   "source": [
    "len(test_spam.index)"
   ]
  },
  {
   "cell_type": "code",
   "execution_count": 41,
   "id": "36967bf8",
   "metadata": {},
   "outputs": [
    {
     "ename": "TypeError",
     "evalue": "'coo_matrix' object is not subscriptable",
     "output_type": "error",
     "traceback": [
      "\u001b[0;31m---------------------------------------------------------------------------\u001b[0m",
      "\u001b[0;31mTypeError\u001b[0m                                 Traceback (most recent call last)",
      "\u001b[0;32m/var/folders/rr/gnmws3gs2xn3p2l0t4_lq7hc0000gn/T/ipykernel_72257/2121736177.py\u001b[0m in \u001b[0;36m<module>\u001b[0;34m\u001b[0m\n\u001b[0;32m----> 1\u001b[0;31m \u001b[0mnew_vectors\u001b[0m\u001b[0;34m[\u001b[0m\u001b[0;36m1\u001b[0m\u001b[0;34m]\u001b[0m\u001b[0;34m\u001b[0m\u001b[0;34m\u001b[0m\u001b[0m\n\u001b[0m",
      "\u001b[0;31mTypeError\u001b[0m: 'coo_matrix' object is not subscriptable"
     ]
    }
   ],
   "source": [
    "new_vectors[1]"
   ]
  },
  {
   "cell_type": "code",
   "execution_count": null,
   "id": "8d1a5ffc",
   "metadata": {},
   "outputs": [],
   "source": []
  },
  {
   "cell_type": "code",
   "execution_count": null,
   "id": "c13ae556",
   "metadata": {},
   "outputs": [],
   "source": []
  },
  {
   "cell_type": "code",
   "execution_count": null,
   "id": "86f60951",
   "metadata": {},
   "outputs": [],
   "source": []
  },
  {
   "cell_type": "code",
   "execution_count": null,
   "id": "34e79255",
   "metadata": {},
   "outputs": [],
   "source": []
  },
  {
   "cell_type": "code",
   "execution_count": null,
   "id": "155cdaa7",
   "metadata": {},
   "outputs": [],
   "source": []
  },
  {
   "cell_type": "markdown",
   "id": "95f17f3a",
   "metadata": {},
   "source": [
    "### Clustering"
   ]
  },
  {
   "cell_type": "markdown",
   "id": "f8e3b1cc",
   "metadata": {},
   "source": [
    "#### KMeans Clustering"
   ]
  },
  {
   "cell_type": "markdown",
   "id": "da6bc7f3",
   "metadata": {},
   "source": [
    "K-means clustering is a type of unsupervised learning, which is used when you have unlabeled data (i.e., data without defined categories or groups). The goal of this algorithm is to find groups in the data, with the number of groups represented by the variable K. The algorithm works iteratively to assign each data point to one of K groups based on the features that are provided. Data points are clustered based on feature similarity"
   ]
  },
  {
   "cell_type": "markdown",
   "id": "4eb9259f",
   "metadata": {},
   "source": [
    "KMeans Clustering with default parameters"
   ]
  },
  {
   "cell_type": "code",
   "execution_count": null,
   "id": "1f2fc7a1",
   "metadata": {},
   "outputs": [],
   "source": [
    "wcss = []\n",
    "score = []\n",
    "K = range(2,30)\n",
    "for k in K:\n",
    "    km = KMeans(n_clusters=k, random_state=1234, init = 'k-means++')\n",
    "    km = km.fit(new_vectors)\n",
    "    labels = km.predict(new_vectors) \n",
    "    wcss.append(km.inertia_)\n",
    "    sc = silhouette_score(new_vectors, labels)\n",
    "    score.append(sc)\n",
    "\n",
    "plt.rcParams['figure.figsize'] = (15, 5)\n",
    "#plt.subplot(1,1,1)\n",
    "plt.plot(K, wcss, 'bx-')\n",
    "plt.xlabel('Number of centroids')\n",
    "plt.ylabel('Within-Cluster-Sum-of-Squares')\n",
    "plt.title('Elbow Method For Optimal k')\n"
   ]
  },
  {
   "cell_type": "code",
   "execution_count": null,
   "id": "92d0c6f6",
   "metadata": {},
   "outputs": [],
   "source": [
    "email_df[\"clusterid\"] = km.labels_\n",
    "\n"
   ]
  },
  {
   "cell_type": "code",
   "execution_count": null,
   "id": "c9387b30",
   "metadata": {},
   "outputs": [],
   "source": [
    "len(email_df[\"clusterid\"].unique())"
   ]
  },
  {
   "cell_type": "code",
   "execution_count": null,
   "id": "b0a6e342",
   "metadata": {},
   "outputs": [],
   "source": [
    "np.unique(km.labels_)"
   ]
  },
  {
   "cell_type": "markdown",
   "id": "1bb1c920",
   "metadata": {},
   "source": [
    "#### Visualize Clusters"
   ]
  },
  {
   "cell_type": "markdown",
   "id": "58c421b0",
   "metadata": {},
   "source": [
    "We will use a technique called t-SNE (t-distributed Stochastic Neighbor Embedding) to generate a 2 dimensional representation of our dataset, in order to have a more intuitive understanding of how the clustering looks."
   ]
  },
  {
   "cell_type": "markdown",
   "id": "ffcf2b8a",
   "metadata": {},
   "source": [
    "First let's look at an un-clustered version of this 2D projection."
   ]
  },
  {
   "cell_type": "code",
   "execution_count": null,
   "id": "44399cbe",
   "metadata": {},
   "outputs": [],
   "source": [
    "%%time\n",
    "from sklearn.manifold import TSNE\n",
    "import sklearn.cluster as cluster\n",
    "newdims = (12, 8)\n",
    "plt.subplots(1, 1, figsize=newdims)\n",
    "plt.subplot(1, 1, 1)\n",
    "plot_kwds = {'alpha' : 0.25, 's' : 40, 'linewidths':0}\n",
    "projection = TSNE().fit_transform(new_vectors)\n",
    "plt.scatter(*projection.T, **plot_kwds)\n",
    "plt.show()"
   ]
  },
  {
   "cell_type": "markdown",
   "id": "760a6917",
   "metadata": {},
   "source": [
    "Now look at clustered version of this 2D projection with various clustering techniques"
   ]
  },
  {
   "cell_type": "code",
   "execution_count": null,
   "id": "85b41180",
   "metadata": {},
   "outputs": [],
   "source": [
    "%%time\n",
    "import seaborn as sns\n",
    "\n",
    "# This function will run a given clustering algorithm and plot the clusters on the same 2D  TSNE projection as above\n",
    "def plot_clusters(data, algorithm, args, kwds):\n",
    "    print(*args)\n",
    "    labels = algorithm(*args, **kwds).fit_predict(data)\n",
    "    palette = sns.color_palette('muted', np.unique(labels).max() + 1)\n",
    "    colors = [palette[x] if x >= 0 else (.5, .5, .5) for x in labels]\n",
    "    plt.scatter(*projection.T, s=50, linewidth=0, c=colors, alpha=0.25)\n",
    "    frame = plt.gca()\n",
    "    frame.axes.get_xaxis().set_visible(False)\n",
    "    frame.axes.get_yaxis().set_visible(False)\n",
    "    plt.title('Clusters found by {}'.format(str(algorithm.__name__)), fontsize=14)"
   ]
  },
  {
   "cell_type": "code",
   "execution_count": null,
   "id": "0ae4e71b",
   "metadata": {
    "scrolled": false
   },
   "outputs": [],
   "source": [
    "# plot the clusters\n",
    "newdims = (10, 8)\n",
    "plt.subplots(1, 1, figsize=newdims)\n",
    "plt.subplot(1, 1, 1)\n",
    "plot_clusters(new_vectors, cluster.KMeans, (), {'n_clusters':11})"
   ]
  },
  {
   "cell_type": "markdown",
   "id": "fcfc5879",
   "metadata": {},
   "source": [
    "#### Word Cloud"
   ]
  },
  {
   "cell_type": "code",
   "execution_count": null,
   "id": "e8655adf",
   "metadata": {
    "scrolled": false
   },
   "outputs": [],
   "source": [
    "# word cloud with best K\n",
    "best_k = 11\n",
    "km = KMeans(n_clusters=best_k, init = 'k-means++')\n",
    "km = km.fit(new_vectors)\n",
    "labels = km.predict(new_vectors)\n",
    "    \n",
    "clusters = list(labels)\n",
    "\n",
    "kmeans_result={'cluster':clusters,'reviews':email_df.data_new}\n",
    "kmeans_result=pd.DataFrame(kmeans_result)\n",
    "for k in range(0,best_k):\n",
    "   s=kmeans_result[kmeans_result.cluster==k]\n",
    "   text=s['reviews'].str.cat(sep=' ')\n",
    "   text=text.lower()\n",
    "   text=' '.join([word for word in text.split()])\n",
    "   wordcloud = WordCloud(max_font_size=50, max_words=100, background_color=\"white\").generate(text)\n",
    "   plt.figure()\n",
    "   plt.imshow(wordcloud, interpolation=\"bilinear\")\n",
    "   plt.axis(\"off\")\n",
    "   plt.show()"
   ]
  },
  {
   "cell_type": "code",
   "execution_count": null,
   "id": "1e23d3ab",
   "metadata": {},
   "outputs": [],
   "source": [
    "email_df[\"clusterid\"] = kmeans_result[\"cluster\"]"
   ]
  },
  {
   "cell_type": "code",
   "execution_count": null,
   "id": "ce1f6f46",
   "metadata": {},
   "outputs": [],
   "source": [
    "email_df[\"clusterid\"]"
   ]
  },
  {
   "cell_type": "code",
   "execution_count": null,
   "id": "b228923d",
   "metadata": {},
   "outputs": [],
   "source": [
    "import pandas as pd\n",
    "import matplotlib.pyplot as plt\n",
    "import seaborn as sns\n",
    "\n",
    "#read data from csv file\n",
    "\n",
    "#create count plot for room types\n",
    "%matplotlib inline\n",
    "sns.set(style=\"darkgrid\")\n",
    "ax = sns.countplot(x='clusterid', hue=\"target\", data=email_df)\n",
    "plt.show()\n"
   ]
  },
  {
   "cell_type": "markdown",
   "id": "cd21f223",
   "metadata": {},
   "source": [
    "### Naive Bayes Classification"
   ]
  },
  {
   "cell_type": "markdown",
   "id": "1fdb6e3b",
   "metadata": {},
   "source": [
    "It is a classification technique based on Bayes’ Theorem with an assumption of independence among predictors. In simple terms, a Naive Bayes classifier assumes that the presence of a particular feature in a class is unrelated to the presence of any other feature."
   ]
  },
  {
   "cell_type": "code",
   "execution_count": null,
   "id": "8fecbe93",
   "metadata": {},
   "outputs": [],
   "source": [
    "email_df"
   ]
  },
  {
   "cell_type": "code",
   "execution_count": null,
   "id": "8c8abd33",
   "metadata": {},
   "outputs": [],
   "source": []
  },
  {
   "cell_type": "markdown",
   "id": "202a9134",
   "metadata": {},
   "source": [
    "## Test Data"
   ]
  },
  {
   "cell_type": "code",
   "execution_count": null,
   "id": "41aa1e11",
   "metadata": {},
   "outputs": [],
   "source": [
    "%%time\n",
    "\n",
    "\n",
    "#TEST DATA\n",
    "\n",
    "\n",
    "data_path = \"/Users/ravis/Downloads/apruvspam\"\n",
    "# get all sub folders\n",
    "sub_folders = [x[0] for x in os.walk(data_path) if x[0] != data_path]\n",
    "\n",
    "                   \n",
    "# read all emails from all sub folders\n",
    "mail_ty = []\n",
    "text_ty = []\n",
    "data = []\n",
    "target = []\n",
    "email_attachment = []\n",
    "attachment = False\n",
    "\n",
    "for folder in sub_folders:\n",
    "    files = [f for f in os.listdir(folder) if os.path.isfile(os.path.join(folder, f))]\n",
    "    for file in files:\n",
    "        with open(f\"{folder}/{file}\", encoding=\"latin1\") as f:\n",
    "            #    with open(f\"{folder}/{file}\",\"r\") as f:\n",
    "            x = email.message_from_file(f)\n",
    "          #  print(x)\n",
    "    #    if (file != 'cmds'): \n",
    "    #        mail_data.append(lines)\n",
    "            \n",
    "        mail_type = x.get_content_type()\n",
    "        text_type = x.get_content_charset()\n",
    "        mail_ty.append(mail_type)\n",
    "        text_ty.append(text_type)\n",
    "        if re.search(\"spam\", folder):\n",
    "            target.append(1)\n",
    "        else:\n",
    "             target.append(0)\n",
    "                               \n",
    "        if mail_type == \"text/html\":\n",
    "            if not (isinstance(x.get_payload(), str)) and x.get_payload().get('Content-Disposition'):\n",
    "                dispositions = x.get_payload().get(\"Content-Disposition\", None).strip().split(\";\")\n",
    "                if bool(dispositions[0].lower() == \"attachment\"):\n",
    "                    attachment = True\n",
    "                else:\n",
    "                    attachment = False\n",
    "          \n",
    "            tmp = BeautifulSoup(x.get_payload(), 'html.parser')\n",
    "            tmp = tmp.text.replace(\"\\n\", \" \")\n",
    "            data.append(tmp)\n",
    "        elif \"multipart\" in mail_type:\n",
    "            attachment = False\n",
    "            multipart_data = []\n",
    "            for text in x.get_payload():                        \n",
    "                if not isinstance(text, str): \n",
    "                    if text.get('Content-Disposition'):\n",
    "                        dispositions = text.get(\"Content-Disposition\", None).strip().split(\";\")\n",
    "                        if bool(dispositions[0].lower() == \"attachment\"):\n",
    "                            attachment = True\n",
    "                            \n",
    "                    if text.get_content_type() == \"text/html\":\n",
    "                        tmp = BeautifulSoup(text.get_payload(), 'html.parser')\n",
    "                        tmp = tmp.text.replace(\"\\n\", \" \")\n",
    "                        multipart_data.append(tmp)\n",
    "                    elif text.get_content_type() == \"text/plain\":\n",
    "                        multipart_data.append(text.get_payload()) \n",
    "                \n",
    "            multipart_email = [''.join(str(item)) for item in multipart_data]\n",
    "            data.append(multipart_email)\n",
    "        else:\n",
    "            if not (isinstance(x.get_payload(), str)) and x.get_payload().get('Content-Disposition'):\n",
    "                dispositions = x.get_payload().get(\"Content-Disposition\", None).strip().split(\";\")\n",
    "                if bool(dispositions[0].lower() == \"attachment\"):\n",
    "                    attachment = True\n",
    "                else:\n",
    "                    attachment = False\n",
    "            data.append(x.get_payload()) \n",
    "            \n",
    "        if attachment:\n",
    "            email_attachment.append(1)\n",
    "        else:\n",
    "            email_attachment.append(0)\n",
    "            \n",
    "            \n",
    "df = pd.DataFrame()\n",
    "\n",
    "df[\"mail_types\"] = mail_ty\n",
    "df[\"text_types\"] = text_ty\n",
    "\n",
    "df[\"mail_types\"].value_counts()\n",
    "# Create a data frame with email text and target (whether mail is spam or not, 1 for spam and 0 for not a spam)\n",
    "test_email_df = pd.DataFrame()\n",
    "test_email_df[\"data\"] = data\n",
    "#email_df[\"mail_type\"] = mail_ty\n",
    "#email_df[\"text_type\"] = text_ty\n",
    "test_email_df[\"target\"] = target\n",
    "test_email_df[\"Attachments\"] = email_attachment\n",
    "\n",
    "          \n",
    "\n"
   ]
  },
  {
   "cell_type": "code",
   "execution_count": null,
   "id": "a1c5ae99",
   "metadata": {},
   "outputs": [],
   "source": [
    "test_email_df[\"data_new\"] = [''.join(str(item).lower()) for item in test_email_df.data]\n",
    "test_vectors = tf_vectorizer.fit_transform(test_email_df.data_new)"
   ]
  },
  {
   "cell_type": "code",
   "execution_count": null,
   "id": "85928d12",
   "metadata": {},
   "outputs": [],
   "source": [
    "test_km = km.predict(test_vectors)"
   ]
  },
  {
   "cell_type": "code",
   "execution_count": null,
   "id": "6d8ea9aa",
   "metadata": {},
   "outputs": [],
   "source": []
  },
  {
   "cell_type": "code",
   "execution_count": null,
   "id": "7e4f3051",
   "metadata": {},
   "outputs": [],
   "source": []
  },
  {
   "cell_type": "code",
   "execution_count": null,
   "id": "138bf201",
   "metadata": {},
   "outputs": [],
   "source": []
  },
  {
   "cell_type": "code",
   "execution_count": null,
   "id": "ad1c29f1",
   "metadata": {},
   "outputs": [],
   "source": []
  },
  {
   "cell_type": "code",
   "execution_count": null,
   "id": "e63c5a72",
   "metadata": {},
   "outputs": [],
   "source": []
  },
  {
   "cell_type": "code",
   "execution_count": null,
   "id": "821393b8",
   "metadata": {},
   "outputs": [],
   "source": []
  },
  {
   "cell_type": "code",
   "execution_count": null,
   "id": "af73695b",
   "metadata": {},
   "outputs": [],
   "source": []
  },
  {
   "cell_type": "code",
   "execution_count": null,
   "id": "50a8226c",
   "metadata": {},
   "outputs": [],
   "source": []
  },
  {
   "cell_type": "code",
   "execution_count": null,
   "id": "26b0f1d0",
   "metadata": {},
   "outputs": [],
   "source": []
  },
  {
   "cell_type": "code",
   "execution_count": null,
   "id": "f0d5a8ec",
   "metadata": {},
   "outputs": [],
   "source": [
    "def displayModel_metrics(best_model, grid_model, features, target, cv):\n",
    "    metrics = cross_validate(best_model, features, y=target, cv=cv, \n",
    "                             scoring=['accuracy','precision','recall'], return_train_score=True) \n",
    "    \n",
    "    y_predict = cross_val_predict(best_model, features, target, cv=cv)\n",
    "\n",
    "    print('\\nBest Accuracy with Grid Search            : {:.3f}'.format(grid_model.best_score_))\n",
    "    print('\\nTraining data Metrics')\n",
    "    print('\\n     The average accuraccy : {:.3f}'.format(metrics['train_accuracy'].mean()))\n",
    "    print('     The average precision : {:.3f}'.format(metrics['train_precision'].mean()))\n",
    "    print('     The average recall    : {:.3f}'.format(metrics['train_recall'].mean()))\n",
    "\n",
    "    print('\\nTest data Metrics')\n",
    "    print('\\n     The average accuracy  : {:.3f}'.format(metrics['test_accuracy'].mean()))\n",
    "    print('     The average precision : {:.3f}'.format(metrics['test_precision'].mean()))\n",
    "    print('     The average  recall   : {:.3f}'.format(metrics['test_recall'].mean()))\n",
    "    \n",
    "    matrix = classification_report(target, y_predict, labels=[1,0])\n",
    "    print('\\nClassification report\\n')\n",
    "    print(matrix)\n",
    "\n",
    "    \n",
    "    \n",
    "# Reference https://github.com/jakemdrew/DataMiningNotebooks/blob/master/06.%20Classification.ipynb\n",
    "# ROC curve plot\n",
    "def roc_curve_plot(model_fit, features, target):\n",
    "\n",
    "    sns.set_palette(\"dark\")\n",
    "\n",
    "    yhat_score = model_fit.predict_proba(features)\n",
    "\n",
    "    # Compute ROC curve for a subset of interesting classes\n",
    "    fpr = dict()\n",
    "    tpr = dict()\n",
    "    roc_auc = dict()\n",
    "    for i in np.unique(target):\n",
    "        fpr[i], tpr[i], _ = mt.roc_curve(target, yhat_score[:, i], pos_label=i)\n",
    "        roc_auc[i] = mt.auc(fpr[i], tpr[i])\n",
    "\n",
    "    for i in np.unique(target):\n",
    "        plt.plot(fpr[i], tpr[i], label= ('class %d (area = %0.2f)' % (i, roc_auc[i])))\n",
    "    plt.plot([0, 1], [0, 1], color='navy', lw=2, linestyle='--')\n",
    "\n",
    "    plt.legend(loc=\"lower right\")  \n",
    "    plt.title('Receiver operating characteristic')\n",
    "    plt.xlabel('False Positive Rate')\n",
    "    plt.ylabel('True Positive Rate')\n",
    "    plt.show()"
   ]
  },
  {
   "cell_type": "code",
   "execution_count": null,
   "id": "f126e5e3",
   "metadata": {},
   "outputs": [],
   "source": [
    "#Create Cross Validation Procedure\n",
    "cv = StratifiedKFold(n_splits=10, random_state=1234, shuffle=True)"
   ]
  },
  {
   "cell_type": "code",
   "execution_count": null,
   "id": "aa0eee4e",
   "metadata": {},
   "outputs": [],
   "source": [
    "# Naive Bayes (NB) classifier \n",
    "clf = MultinomialNB().fit(new_vectors,email_df['target'])"
   ]
  },
  {
   "cell_type": "code",
   "execution_count": null,
   "id": "605fafe0",
   "metadata": {},
   "outputs": [],
   "source": [
    "# define parameters\n",
    "C_nb = [0.0001, 0.001, 0.01, 0.1, 1, 10, 100, 1000]  \n",
    "nb_prior=[True, False]\n",
    "\n",
    "nb_clf = MultinomialNB()\n",
    "# define grid search\n",
    "param_grid_nb = dict(alpha=C_nb, fit_prior=nb_prior)\n",
    "\n",
    "grid_search_nb = GridSearchCV(estimator=nb_clf, param_grid=param_grid_nb, n_jobs=-1, cv=cv, \n",
    "                              scoring='accuracy',error_score=0)"
   ]
  },
  {
   "cell_type": "code",
   "execution_count": null,
   "id": "e0f247b1",
   "metadata": {},
   "outputs": [],
   "source": [
    "%%time\n",
    "grid_result_nb = grid_search_nb.fit(new_vectors,email_df['target'])\n",
    "# summarize results\n",
    "print(\"Best: %f using %s\" % (grid_result_nb.best_score_, grid_result_nb.best_params_))\n",
    "means = grid_result_nb.cv_results_['mean_test_score']\n",
    "stds = grid_result_nb.cv_results_['std_test_score']\n",
    "params = grid_result_nb.cv_results_['params']\n",
    "for mean, stdev, param in zip(means, stds, params):\n",
    "    print(\"%f (%f) with: %r\" % (mean, stdev, param))"
   ]
  },
  {
   "cell_type": "code",
   "execution_count": null,
   "id": "f5ccb02c",
   "metadata": {},
   "outputs": [],
   "source": [
    "# The GridSearch algorithm determined the following optimal parameters\n",
    "best_Estimator_nb =grid_result_nb.best_estimator_\n",
    "best_Estimator_nb"
   ]
  },
  {
   "cell_type": "code",
   "execution_count": null,
   "id": "4a9777d3",
   "metadata": {},
   "outputs": [],
   "source": [
    "# Display model metrics\n",
    "displayModel_metrics(best_Estimator_nb, grid_result_nb, new_vectors,email_df['target'], cv)"
   ]
  },
  {
   "cell_type": "code",
   "execution_count": null,
   "id": "4b567f84",
   "metadata": {},
   "outputs": [],
   "source": [
    "# Plot ROC curve\n",
    "roc_curve_plot(grid_result_nb, new_vectors, email_df['target'])"
   ]
  },
  {
   "cell_type": "markdown",
   "id": "b8842f05",
   "metadata": {},
   "source": [
    "### Naive Bayes Classification with clusters as feature"
   ]
  },
  {
   "cell_type": "code",
   "execution_count": null,
   "id": "5ed91ea5",
   "metadata": {},
   "outputs": [],
   "source": [
    "# add clusters as feature\n",
    "new_vectors = hstack((new_vectors,np.array(clusters)[:,None]))"
   ]
  },
  {
   "cell_type": "code",
   "execution_count": null,
   "id": "85d6b7dc",
   "metadata": {},
   "outputs": [],
   "source": [
    "new_vectors"
   ]
  },
  {
   "cell_type": "code",
   "execution_count": null,
   "id": "f9aba5b1",
   "metadata": {},
   "outputs": [],
   "source": [
    "%%time\n",
    "grid_result_nb = grid_search_nb.fit(new_vectors,email_df['target'])\n",
    "# summarize results\n",
    "print(\"Best: %f using %s\" % (grid_result_nb.best_score_, grid_result_nb.best_params_))\n",
    "means = grid_result_nb.cv_results_['mean_test_score']\n",
    "stds = grid_result_nb.cv_results_['std_test_score']\n",
    "params = grid_result_nb.cv_results_['params']\n",
    "for mean, stdev, param in zip(means, stds, params):\n",
    "    print(\"%f (%f) with: %r\" % (mean, stdev, param))"
   ]
  },
  {
   "cell_type": "code",
   "execution_count": null,
   "id": "ada0edd1",
   "metadata": {},
   "outputs": [],
   "source": [
    "# The GridSearch algorithm determined the following optimal parameters\n",
    "best_Estimator_nb =grid_result_nb.best_estimator_\n",
    "best_Estimator_nb"
   ]
  },
  {
   "cell_type": "code",
   "execution_count": null,
   "id": "a5310c67",
   "metadata": {},
   "outputs": [],
   "source": [
    "# Display model metrics\n",
    "displayModel_metrics(best_Estimator_nb, grid_result_nb, new_vectors,email_df['target'], cv)"
   ]
  },
  {
   "cell_type": "code",
   "execution_count": null,
   "id": "50b640c3",
   "metadata": {},
   "outputs": [],
   "source": [
    "# Plot ROC curve\n",
    "roc_curve_plot(grid_result_nb, new_vectors, email_df['target'])"
   ]
  },
  {
   "cell_type": "markdown",
   "id": "bed502c1",
   "metadata": {},
   "source": [
    "### Feature importance with Logistic regression "
   ]
  },
  {
   "cell_type": "code",
   "execution_count": null,
   "id": "45f32bf7",
   "metadata": {},
   "outputs": [],
   "source": [
    "from sklearn.model_selection import GridSearchCV\n",
    "from sklearn.linear_model import LogisticRegression\n",
    "LR = LogisticRegression()\n",
    "\n",
    "# define parameters\n",
    "penalty_LR = ['l1', 'l2', 'elasticnet', 'none'] \n",
    "#penalty_LR = [ 'l1', 'l2'] \n",
    "C_LR = [0.001, 0.01, 0.1, 1, 10, 100, 1000]  \n",
    "#C_LR = [0.001,10, 100]  \n",
    "max_iter_LR = [500]\n",
    "#max_iter_LR = [500]\n",
    "class_weight_LR = ['balanced']\n",
    "#solver_LR = ['newton-cg', 'lbfgs', 'liblinear', 'sag', 'saga']\n",
    "solver_LR = ['lbfgs', 'liblinear']\n",
    "\n",
    "# define grid search\n",
    "param_grid_LR = dict(penalty=penalty_LR, C=C_LR, max_iter=max_iter_LR, class_weight=class_weight_LR, solver=solver_LR)\n",
    "\n",
    "grid_search_LR = GridSearchCV(estimator=LR, param_grid=param_grid_LR, n_jobs=-1, cv=cv, \n",
    "                              scoring='accuracy',error_score=0)"
   ]
  },
  {
   "cell_type": "code",
   "execution_count": null,
   "id": "d45d3cae",
   "metadata": {},
   "outputs": [],
   "source": [
    "%%time\n",
    "grid_result_LR = grid_search_LR.fit(new_vectors,email_df['target'])\n",
    "# summarize results\n",
    "print(\"Best: %f using %s\" % (grid_result_LR.best_score_, grid_result_LR.best_params_))\n",
    "means = grid_result_LR.cv_results_['mean_test_score']\n",
    "stds = grid_result_LR.cv_results_['std_test_score']\n",
    "params = grid_result_LR.cv_results_['params']\n",
    "for mean, stdev, param in zip(means, stds, params):\n",
    "    print(\"%f (%f) with: %r\" % (mean, stdev, param))"
   ]
  },
  {
   "cell_type": "code",
   "execution_count": null,
   "id": "8209fd20",
   "metadata": {},
   "outputs": [],
   "source": [
    "# The GridSearch algorithm determined the following optimal parameters\n",
    "best_Estimator_LR =grid_result_LR.best_estimator_\n",
    "best_Estimator_LR"
   ]
  },
  {
   "cell_type": "code",
   "execution_count": null,
   "id": "ce49f3b4",
   "metadata": {},
   "outputs": [],
   "source": [
    "best_Estimator_LR.coef_[0]"
   ]
  },
  {
   "cell_type": "code",
   "execution_count": null,
   "id": "c2545a76",
   "metadata": {},
   "outputs": [],
   "source": [
    "features = tf_vectorizer.get_feature_names()\n",
    "features.append('email_attachment')\n",
    "features.append('clusters')\n",
    "\n",
    "feature_importance_df = pd.DataFrame(features, columns=['features'])\n",
    "feature_importance_df['feature_coef'] = best_Estimator_LR.coef_[0]\n",
    "\n",
    "feature_importance_df.head()\n",
    "feature_importance_df = feature_importance_df.sort_values(by=['feature_coef'])"
   ]
  },
  {
   "cell_type": "code",
   "execution_count": null,
   "id": "daca4117",
   "metadata": {},
   "outputs": [],
   "source": [
    "feature_importance_df.shape"
   ]
  },
  {
   "cell_type": "code",
   "execution_count": null,
   "id": "89a93e9a",
   "metadata": {},
   "outputs": [],
   "source": [
    "feature_importance_df.tail(20)"
   ]
  },
  {
   "cell_type": "code",
   "execution_count": null,
   "id": "dd7ff220",
   "metadata": {},
   "outputs": [],
   "source": [
    "feature_importance_df.head(20)"
   ]
  },
  {
   "cell_type": "code",
   "execution_count": null,
   "id": "d2a2de6f",
   "metadata": {},
   "outputs": [],
   "source": []
  }
 ],
 "metadata": {
  "kernelspec": {
   "display_name": "Python 3 (ipykernel)",
   "language": "python",
   "name": "python3"
  },
  "language_info": {
   "codemirror_mode": {
    "name": "ipython",
    "version": 3
   },
   "file_extension": ".py",
   "mimetype": "text/x-python",
   "name": "python",
   "nbconvert_exporter": "python",
   "pygments_lexer": "ipython3",
   "version": "3.9.7"
  }
 },
 "nbformat": 4,
 "nbformat_minor": 5
}
